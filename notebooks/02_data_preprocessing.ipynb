{
 "cells": [
  {
   "cell_type": "markdown",
   "metadata": {},
   "source": [
    "### This notebook focuses on cleaning and preprocessing the dataset to prepare it for analysis and modeling. The steps include handling missing values, encoding categorical variables, and scaling numerical features."
   ]
  },
  {
   "cell_type": "code",
   "execution_count": 17,
   "metadata": {},
   "outputs": [],
   "source": [
    "import pandas as pd\n",
    "import numpy as np\n",
    "from sklearn.preprocessing import StandardScaler,OneHotEncoder\n",
    "from sklearn.compose import ColumnTransformer\n",
    "from sklearn.pipeline import Pipeline\n",
    "from sklearn.impute import SimpleImputer"
   ]
  },
  {
   "cell_type": "code",
   "execution_count": 20,
   "metadata": {},
   "outputs": [
    {
     "name": "stdout",
     "output_type": "stream",
     "text": [
      "<class 'pandas.core.frame.DataFrame'>\n",
      "RangeIndex: 240 entries, 0 to 239\n",
      "Data columns (total 7 columns):\n",
      " #   Column                Non-Null Count  Dtype  \n",
      "---  ------                --------------  -----  \n",
      " 0   Year                  240 non-null    int64  \n",
      " 1   Country               240 non-null    object \n",
      " 2   SolarEnergy           240 non-null    float64\n",
      " 3   WindEnergy            240 non-null    float64\n",
      " 4   HydroEnergy           240 non-null    float64\n",
      " 5   OtherRenewableEnergy  240 non-null    float64\n",
      " 6   TotalRenewableEnergy  240 non-null    float64\n",
      "dtypes: float64(5), int64(1), object(1)\n",
      "memory usage: 13.2+ KB\n"
     ]
    },
    {
     "data": {
      "text/plain": [
       "(   Year Country  SolarEnergy   WindEnergy  HydroEnergy  OtherRenewableEnergy  \\\n",
       " 0  2000     USA   437.086107  1435.928598  1544.389701            319.396318   \n",
       " 1  2001     USA   240.416776   402.792876   398.742141            439.779266   \n",
       " 2  2002     USA   641.003511  1120.494351   334.993640            486.459433   \n",
       " 3  2003     USA   849.198377   476.040844   609.102444            132.532029   \n",
       " 4  2004     USA   373.818019   882.183361  1034.306532            181.053113   \n",
       " \n",
       "    TotalRenewableEnergy  \n",
       " 0           3736.800724  \n",
       " 1           1481.731059  \n",
       " 2           2582.950935  \n",
       " 3           2066.873694  \n",
       " 4           2471.361025  ,\n",
       " None)"
      ]
     },
     "execution_count": 20,
     "metadata": {},
     "output_type": "execute_result"
    }
   ],
   "source": [
    "# load dataset\n",
    "data_path = \"../data/raw/global_renewable_energy_production.csv\"\n",
    "df = pd.read_csv(data_path)\n",
    "df.head(),df.info()"
   ]
  },
  {
   "cell_type": "code",
   "execution_count": 32,
   "metadata": {},
   "outputs": [
    {
     "name": "stdout",
     "output_type": "stream",
     "text": [
      "Number of Missing values : Year                    0\n",
      "Country                 0\n",
      "SolarEnergy             0\n",
      "WindEnergy              0\n",
      "HydroEnergy             0\n",
      "OtherRenewableEnergy    0\n",
      "TotalRenewableEnergy    0\n",
      "dtype: int64 \n",
      "\n"
     ]
    }
   ],
   "source": [
    "# checking for missing values\n",
    "msv = df.isnull().sum()\n",
    "print(f\"Number of Missing values : {msv} \\n\")"
   ]
  },
  {
   "cell_type": "code",
   "execution_count": 33,
   "metadata": {},
   "outputs": [
    {
     "name": "stdout",
     "output_type": "stream",
     "text": [
      "Number of Duplicate rows : 0\n"
     ]
    }
   ],
   "source": [
    "#checking for Duplicates\n",
    "dup = df.duplicated().sum()\n",
    "print(f\"Number of Duplicate rows : {dup}\")"
   ]
  },
  {
   "cell_type": "code",
   "execution_count": 35,
   "metadata": {},
   "outputs": [
    {
     "name": "stdout",
     "output_type": "stream",
     "text": [
      "Data Types :\n",
      "Year                      int64\n",
      "Country                  object\n",
      "SolarEnergy             float64\n",
      "WindEnergy              float64\n",
      "HydroEnergy             float64\n",
      "OtherRenewableEnergy    float64\n",
      "TotalRenewableEnergy    float64\n",
      "dtype: object\n"
     ]
    }
   ],
   "source": [
    "# check Data types\n",
    "print(f\"Data Types :\")\n",
    "print(df.dtypes)"
   ]
  },
  {
   "cell_type": "code",
   "execution_count": 37,
   "metadata": {},
   "outputs": [
    {
     "name": "stdout",
     "output_type": "stream",
     "text": [
      "Summray Statistics:\n",
      "              Year  SolarEnergy   WindEnergy  HydroEnergy  \\\n",
      "count   240.000000   240.000000   240.000000   240.000000   \n",
      "mean   2011.500000   528.523858   857.133260  1076.581975   \n",
      "std       6.936653   271.183089   375.020314   499.981598   \n",
      "min    2000.000000   104.555425   206.021630   320.662607   \n",
      "25%    2005.750000   284.700505   523.572495   593.796081   \n",
      "50%    2011.500000   533.436429   882.024084  1046.390380   \n",
      "75%    2017.250000   766.701662  1160.199295  1495.160715   \n",
      "max    2023.000000   996.973153  1487.070005  1983.858741   \n",
      "\n",
      "       OtherRenewableEnergy  TotalRenewableEnergy  \n",
      "count            240.000000            240.000000  \n",
      "mean             287.127554           2749.366647  \n",
      "std              128.460792            695.126957  \n",
      "min               54.876943            910.381025  \n",
      "25%              176.322725           2250.759951  \n",
      "50%              291.398276           2815.458943  \n",
      "75%              405.479393           3217.212712  \n",
      "max              499.872953           4628.164753  \n"
     ]
    }
   ],
   "source": [
    "# summray Statistics\n",
    "print(\"Summray Statistics:\")\n",
    "print(df.describe())"
   ]
  },
  {
   "cell_type": "code",
   "execution_count": 39,
   "metadata": {},
   "outputs": [
    {
     "name": "stdout",
     "output_type": "stream",
     "text": [
      "Unique countries in the dataset:\n",
      "['USA' 'China' 'India' 'Germany' 'UK' 'France' 'Brazil' 'Canada'\n",
      " 'Australia' 'Japan']\n"
     ]
    }
   ],
   "source": [
    "# Encoding categorial variables\n",
    "print(\"Unique countries in the dataset:\")\n",
    "print(df[\"Country\"].unique())"
   ]
  },
  {
   "cell_type": "code",
   "execution_count": 65,
   "metadata": {},
   "outputs": [],
   "source": [
    "# Create a ColumnTransformer for propressing \n",
    "numerical_features = ['SolarEnergy','WindEnergy','HydroEnergy','OtherRenewableEnergy',\"TotalRenewableEnergy\"]\n",
    "categorical_features = ['Country']"
   ]
  },
  {
   "cell_type": "code",
   "execution_count": 66,
   "metadata": {},
   "outputs": [],
   "source": [
    "# Preprocessing pipeline for numerical features\n",
    "numerical_transformer = Pipeline(steps=[\n",
    "    ('imputer', SimpleImputer(strategy='mean')),  # Handle missing values\n",
    "    ('scaler', StandardScaler())  # Scale numerical features\n",
    "])"
   ]
  },
  {
   "cell_type": "code",
   "execution_count": 67,
   "metadata": {},
   "outputs": [],
   "source": [
    "# Preprocessing pipeline for categorical features\n",
    "categorical_transformer = Pipeline(steps=[\n",
    "    ('imputer', SimpleImputer(strategy='most_frequent')),  # Handle missing values\n",
    "    ('onehot', OneHotEncoder(handle_unknown='ignore'))  # OneHotEncode categorical features\n",
    "])"
   ]
  },
  {
   "cell_type": "code",
   "execution_count": 68,
   "metadata": {},
   "outputs": [],
   "source": [
    "# Combine preprocessing steps\n",
    "preprocessor = ColumnTransformer(\n",
    "    transformers=[\n",
    "        ('num', numerical_transformer, numerical_features),\n",
    "        ('cat', categorical_transformer, categorical_features)\n",
    "    ]\n",
    ")"
   ]
  },
  {
   "cell_type": "code",
   "execution_count": 69,
   "metadata": {},
   "outputs": [],
   "source": [
    "# Apply preprocessing to the dataset\n",
    "df_processed = preprocessor.fit_transform(df)"
   ]
  },
  {
   "cell_type": "code",
   "execution_count": 70,
   "metadata": {},
   "outputs": [],
   "source": [
    "# Get column names\n",
    "numerical_columns = numerical_features\n",
    "categorical_columns = preprocessor.named_transformers_['cat'].named_steps['onehot'].get_feature_names_out(categorical_features)\n",
    "all_columns = np.concatenate([numerical_columns, categorical_columns])\n"
   ]
  },
  {
   "cell_type": "code",
   "execution_count": 71,
   "metadata": {},
   "outputs": [],
   "source": [
    "# Convert processed data to DataFrame\n",
    "df_processed = pd.DataFrame(df_processed, columns=all_columns)"
   ]
  },
  {
   "cell_type": "code",
   "execution_count": 72,
   "metadata": {},
   "outputs": [],
   "source": [
    "# Add 'Year' column back\n",
    "df_processed['Year'] = df['Year'].values"
   ]
  },
  {
   "cell_type": "code",
   "execution_count": 73,
   "metadata": {},
   "outputs": [
    {
     "data": {
      "text/html": [
       "<div>\n",
       "<style scoped>\n",
       "    .dataframe tbody tr th:only-of-type {\n",
       "        vertical-align: middle;\n",
       "    }\n",
       "\n",
       "    .dataframe tbody tr th {\n",
       "        vertical-align: top;\n",
       "    }\n",
       "\n",
       "    .dataframe thead th {\n",
       "        text-align: right;\n",
       "    }\n",
       "</style>\n",
       "<table border=\"1\" class=\"dataframe\">\n",
       "  <thead>\n",
       "    <tr style=\"text-align: right;\">\n",
       "      <th></th>\n",
       "      <th>SolarEnergy</th>\n",
       "      <th>WindEnergy</th>\n",
       "      <th>HydroEnergy</th>\n",
       "      <th>OtherRenewableEnergy</th>\n",
       "      <th>TotalRenewableEnergy</th>\n",
       "      <th>Country_Australia</th>\n",
       "      <th>Country_Brazil</th>\n",
       "      <th>Country_Canada</th>\n",
       "      <th>Country_China</th>\n",
       "      <th>Country_France</th>\n",
       "      <th>Country_Germany</th>\n",
       "      <th>Country_India</th>\n",
       "      <th>Country_Japan</th>\n",
       "      <th>Country_UK</th>\n",
       "      <th>Country_USA</th>\n",
       "      <th>Year</th>\n",
       "    </tr>\n",
       "  </thead>\n",
       "  <tbody>\n",
       "    <tr>\n",
       "      <th>0</th>\n",
       "      <td>-0.337886</td>\n",
       "      <td>1.546596</td>\n",
       "      <td>0.937605</td>\n",
       "      <td>0.251720</td>\n",
       "      <td>1.423478</td>\n",
       "      <td>0.0</td>\n",
       "      <td>0.0</td>\n",
       "      <td>0.0</td>\n",
       "      <td>0.0</td>\n",
       "      <td>0.0</td>\n",
       "      <td>0.0</td>\n",
       "      <td>0.0</td>\n",
       "      <td>0.0</td>\n",
       "      <td>0.0</td>\n",
       "      <td>1.0</td>\n",
       "      <td>2000</td>\n",
       "    </tr>\n",
       "    <tr>\n",
       "      <th>1</th>\n",
       "      <td>-1.064628</td>\n",
       "      <td>-1.214041</td>\n",
       "      <td>-1.358563</td>\n",
       "      <td>1.190797</td>\n",
       "      <td>-1.827414</td>\n",
       "      <td>0.0</td>\n",
       "      <td>0.0</td>\n",
       "      <td>0.0</td>\n",
       "      <td>0.0</td>\n",
       "      <td>0.0</td>\n",
       "      <td>0.0</td>\n",
       "      <td>0.0</td>\n",
       "      <td>0.0</td>\n",
       "      <td>0.0</td>\n",
       "      <td>1.0</td>\n",
       "      <td>2001</td>\n",
       "    </tr>\n",
       "    <tr>\n",
       "      <th>2</th>\n",
       "      <td>0.415641</td>\n",
       "      <td>0.703726</td>\n",
       "      <td>-1.486331</td>\n",
       "      <td>1.554937</td>\n",
       "      <td>-0.239904</td>\n",
       "      <td>0.0</td>\n",
       "      <td>0.0</td>\n",
       "      <td>0.0</td>\n",
       "      <td>0.0</td>\n",
       "      <td>0.0</td>\n",
       "      <td>0.0</td>\n",
       "      <td>0.0</td>\n",
       "      <td>0.0</td>\n",
       "      <td>0.0</td>\n",
       "      <td>1.0</td>\n",
       "      <td>2002</td>\n",
       "    </tr>\n",
       "    <tr>\n",
       "      <th>3</th>\n",
       "      <td>1.184973</td>\n",
       "      <td>-1.018315</td>\n",
       "      <td>-0.936947</td>\n",
       "      <td>-1.205960</td>\n",
       "      <td>-0.983877</td>\n",
       "      <td>0.0</td>\n",
       "      <td>0.0</td>\n",
       "      <td>0.0</td>\n",
       "      <td>0.0</td>\n",
       "      <td>0.0</td>\n",
       "      <td>0.0</td>\n",
       "      <td>0.0</td>\n",
       "      <td>0.0</td>\n",
       "      <td>0.0</td>\n",
       "      <td>1.0</td>\n",
       "      <td>2003</td>\n",
       "    </tr>\n",
       "    <tr>\n",
       "      <th>4</th>\n",
       "      <td>-0.571677</td>\n",
       "      <td>0.066936</td>\n",
       "      <td>-0.084731</td>\n",
       "      <td>-0.827460</td>\n",
       "      <td>-0.400771</td>\n",
       "      <td>0.0</td>\n",
       "      <td>0.0</td>\n",
       "      <td>0.0</td>\n",
       "      <td>0.0</td>\n",
       "      <td>0.0</td>\n",
       "      <td>0.0</td>\n",
       "      <td>0.0</td>\n",
       "      <td>0.0</td>\n",
       "      <td>0.0</td>\n",
       "      <td>1.0</td>\n",
       "      <td>2004</td>\n",
       "    </tr>\n",
       "  </tbody>\n",
       "</table>\n",
       "</div>"
      ],
      "text/plain": [
       "   SolarEnergy  WindEnergy  HydroEnergy  OtherRenewableEnergy  \\\n",
       "0    -0.337886    1.546596     0.937605              0.251720   \n",
       "1    -1.064628   -1.214041    -1.358563              1.190797   \n",
       "2     0.415641    0.703726    -1.486331              1.554937   \n",
       "3     1.184973   -1.018315    -0.936947             -1.205960   \n",
       "4    -0.571677    0.066936    -0.084731             -0.827460   \n",
       "\n",
       "   TotalRenewableEnergy  Country_Australia  Country_Brazil  Country_Canada  \\\n",
       "0              1.423478                0.0             0.0             0.0   \n",
       "1             -1.827414                0.0             0.0             0.0   \n",
       "2             -0.239904                0.0             0.0             0.0   \n",
       "3             -0.983877                0.0             0.0             0.0   \n",
       "4             -0.400771                0.0             0.0             0.0   \n",
       "\n",
       "   Country_China  Country_France  Country_Germany  Country_India  \\\n",
       "0            0.0             0.0              0.0            0.0   \n",
       "1            0.0             0.0              0.0            0.0   \n",
       "2            0.0             0.0              0.0            0.0   \n",
       "3            0.0             0.0              0.0            0.0   \n",
       "4            0.0             0.0              0.0            0.0   \n",
       "\n",
       "   Country_Japan  Country_UK  Country_USA  Year  \n",
       "0            0.0         0.0          1.0  2000  \n",
       "1            0.0         0.0          1.0  2001  \n",
       "2            0.0         0.0          1.0  2002  \n",
       "3            0.0         0.0          1.0  2003  \n",
       "4            0.0         0.0          1.0  2004  "
      ]
     },
     "execution_count": 73,
     "metadata": {},
     "output_type": "execute_result"
    }
   ],
   "source": [
    "# Display first few rows of processed DataFrame\n",
    "df_processed.head()"
   ]
  },
  {
   "cell_type": "code",
   "execution_count": 74,
   "metadata": {},
   "outputs": [
    {
     "name": "stdout",
     "output_type": "stream",
     "text": [
      "Processed data saved to ../data/processed/cleaned_energy_data.csv\n"
     ]
    }
   ],
   "source": [
    "# Save the processed data to a new CSV file\n",
    "processed_data_path = \"../data/processed/cleaned_energy_data.csv\"\n",
    "df_processed.to_csv(processed_data_path, index=False)\n",
    "print(f\"Processed data saved to {processed_data_path}\")"
   ]
  },
  {
   "cell_type": "code",
   "execution_count": 75,
   "metadata": {},
   "outputs": [
    {
     "name": "stdout",
     "output_type": "stream",
     "text": [
      "\n",
      "Summary of Data Preprocessing:\n",
      "1. Checked for missing values and duplicates (none found).\n",
      "2. Filled missing values where necessary.\n",
      "3. Encoded categorical variables using OneHotEncoding.\n",
      "4. Scaled numerical features using StandardScaler.\n",
      "5. Saved the processed data to a new CSV file.\n",
      "\n"
     ]
    }
   ],
   "source": [
    "print(\"\"\"\n",
    "Summary of Data Preprocessing:\n",
    "1. Checked for missing values and duplicates (none found).\n",
    "2. Filled missing values where necessary.\n",
    "3. Encoded categorical variables using OneHotEncoding.\n",
    "4. Scaled numerical features using StandardScaler.\n",
    "5. Saved the processed data to a new CSV file.\n",
    "\"\"\")"
   ]
  },
  {
   "cell_type": "code",
   "execution_count": null,
   "metadata": {},
   "outputs": [],
   "source": []
  }
 ],
 "metadata": {
  "kernelspec": {
   "display_name": "ai",
   "language": "python",
   "name": "python3"
  },
  "language_info": {
   "codemirror_mode": {
    "name": "ipython",
    "version": 3
   },
   "file_extension": ".py",
   "mimetype": "text/x-python",
   "name": "python",
   "nbconvert_exporter": "python",
   "pygments_lexer": "ipython3",
   "version": "3.10.16"
  }
 },
 "nbformat": 4,
 "nbformat_minor": 2
}
