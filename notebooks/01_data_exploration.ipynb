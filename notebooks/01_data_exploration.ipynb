{
 "cells": [
  {
   "cell_type": "markdown",
   "metadata": {},
   "source": [
    "### This notebook aims to explore the dataset `global_renewable_energy_production.csv` to understand its structure, identify trends, and detect any potential data issues.\n"
   ]
  },
  {
   "cell_type": "code",
   "execution_count": 54,
   "metadata": {},
   "outputs": [],
   "source": [
    "import pandas as pd \n",
    "import numpy as np \n",
    "import matplotlib.pyplot as plt\n",
    "import seaborn as sns\n",
    "import plotly.express as px"
   ]
  },
  {
   "cell_type": "code",
   "execution_count": 55,
   "metadata": {},
   "outputs": [
    {
     "name": "stdout",
     "output_type": "stream",
     "text": [
      "['Solarize_Light2', '_classic_test_patch', '_mpl-gallery', '_mpl-gallery-nogrid', 'bmh', 'classic', 'dark_background', 'fast', 'fivethirtyeight', 'ggplot', 'grayscale', 'petroff10', 'seaborn-v0_8', 'seaborn-v0_8-bright', 'seaborn-v0_8-colorblind', 'seaborn-v0_8-dark', 'seaborn-v0_8-dark-palette', 'seaborn-v0_8-darkgrid', 'seaborn-v0_8-deep', 'seaborn-v0_8-muted', 'seaborn-v0_8-notebook', 'seaborn-v0_8-paper', 'seaborn-v0_8-pastel', 'seaborn-v0_8-poster', 'seaborn-v0_8-talk', 'seaborn-v0_8-ticks', 'seaborn-v0_8-white', 'seaborn-v0_8-whitegrid', 'tableau-colorblind10']\n"
     ]
    }
   ],
   "source": [
    "sns.set(style=\"whitegrid\")\n",
    "print(plt.style.available)\n"
   ]
  },
  {
   "cell_type": "code",
   "execution_count": 56,
   "metadata": {},
   "outputs": [
    {
     "name": "stdout",
     "output_type": "stream",
     "text": [
      "CUDA is available. Using GPU\n"
     ]
    }
   ],
   "source": [
    "import torch \n",
    "if torch.cuda.is_available():\n",
    "    print(\"CUDA is available. Using GPU\")\n",
    "    device = torch.device(\"cuda\")"
   ]
  },
  {
   "cell_type": "code",
   "execution_count": 57,
   "metadata": {},
   "outputs": [
    {
     "name": "stdout",
     "output_type": "stream",
     "text": [
      "<class 'pandas.core.frame.DataFrame'>\n",
      "RangeIndex: 240 entries, 0 to 239\n",
      "Data columns (total 7 columns):\n",
      " #   Column                Non-Null Count  Dtype  \n",
      "---  ------                --------------  -----  \n",
      " 0   Year                  240 non-null    int64  \n",
      " 1   Country               240 non-null    object \n",
      " 2   SolarEnergy           240 non-null    float64\n",
      " 3   WindEnergy            240 non-null    float64\n",
      " 4   HydroEnergy           240 non-null    float64\n",
      " 5   OtherRenewableEnergy  240 non-null    float64\n",
      " 6   TotalRenewableEnergy  240 non-null    float64\n",
      "dtypes: float64(5), int64(1), object(1)\n",
      "memory usage: 13.2+ KB\n"
     ]
    },
    {
     "data": {
      "text/plain": [
       "(   Year Country  SolarEnergy   WindEnergy  HydroEnergy  OtherRenewableEnergy  \\\n",
       " 0  2000     USA   437.086107  1435.928598  1544.389701            319.396318   \n",
       " 1  2001     USA   240.416776   402.792876   398.742141            439.779266   \n",
       " 2  2002     USA   641.003511  1120.494351   334.993640            486.459433   \n",
       " 3  2003     USA   849.198377   476.040844   609.102444            132.532029   \n",
       " 4  2004     USA   373.818019   882.183361  1034.306532            181.053113   \n",
       " \n",
       "    TotalRenewableEnergy  \n",
       " 0           3736.800724  \n",
       " 1           1481.731059  \n",
       " 2           2582.950935  \n",
       " 3           2066.873694  \n",
       " 4           2471.361025  ,\n",
       " None)"
      ]
     },
     "execution_count": 57,
     "metadata": {},
     "output_type": "execute_result"
    }
   ],
   "source": [
    "# Loading the data\n",
    "data_path = \"../data/raw/global_renewable_energy_production.csv\"\n",
    "df = pd.read_csv(data_path)\n",
    "df.head(),df.info()"
   ]
  },
  {
   "cell_type": "code",
   "execution_count": 58,
   "metadata": {},
   "outputs": [
    {
     "data": {
      "text/html": [
       "<div>\n",
       "<style scoped>\n",
       "    .dataframe tbody tr th:only-of-type {\n",
       "        vertical-align: middle;\n",
       "    }\n",
       "\n",
       "    .dataframe tbody tr th {\n",
       "        vertical-align: top;\n",
       "    }\n",
       "\n",
       "    .dataframe thead th {\n",
       "        text-align: right;\n",
       "    }\n",
       "</style>\n",
       "<table border=\"1\" class=\"dataframe\">\n",
       "  <thead>\n",
       "    <tr style=\"text-align: right;\">\n",
       "      <th></th>\n",
       "      <th>Year</th>\n",
       "      <th>SolarEnergy</th>\n",
       "      <th>WindEnergy</th>\n",
       "      <th>HydroEnergy</th>\n",
       "      <th>OtherRenewableEnergy</th>\n",
       "      <th>TotalRenewableEnergy</th>\n",
       "    </tr>\n",
       "  </thead>\n",
       "  <tbody>\n",
       "    <tr>\n",
       "      <th>count</th>\n",
       "      <td>240.000000</td>\n",
       "      <td>240.000000</td>\n",
       "      <td>240.000000</td>\n",
       "      <td>240.000000</td>\n",
       "      <td>240.000000</td>\n",
       "      <td>240.000000</td>\n",
       "    </tr>\n",
       "    <tr>\n",
       "      <th>mean</th>\n",
       "      <td>2011.500000</td>\n",
       "      <td>528.523858</td>\n",
       "      <td>857.133260</td>\n",
       "      <td>1076.581975</td>\n",
       "      <td>287.127554</td>\n",
       "      <td>2749.366647</td>\n",
       "    </tr>\n",
       "    <tr>\n",
       "      <th>std</th>\n",
       "      <td>6.936653</td>\n",
       "      <td>271.183089</td>\n",
       "      <td>375.020314</td>\n",
       "      <td>499.981598</td>\n",
       "      <td>128.460792</td>\n",
       "      <td>695.126957</td>\n",
       "    </tr>\n",
       "    <tr>\n",
       "      <th>min</th>\n",
       "      <td>2000.000000</td>\n",
       "      <td>104.555425</td>\n",
       "      <td>206.021630</td>\n",
       "      <td>320.662607</td>\n",
       "      <td>54.876943</td>\n",
       "      <td>910.381025</td>\n",
       "    </tr>\n",
       "    <tr>\n",
       "      <th>25%</th>\n",
       "      <td>2005.750000</td>\n",
       "      <td>284.700505</td>\n",
       "      <td>523.572495</td>\n",
       "      <td>593.796081</td>\n",
       "      <td>176.322725</td>\n",
       "      <td>2250.759951</td>\n",
       "    </tr>\n",
       "    <tr>\n",
       "      <th>50%</th>\n",
       "      <td>2011.500000</td>\n",
       "      <td>533.436429</td>\n",
       "      <td>882.024084</td>\n",
       "      <td>1046.390380</td>\n",
       "      <td>291.398276</td>\n",
       "      <td>2815.458943</td>\n",
       "    </tr>\n",
       "    <tr>\n",
       "      <th>75%</th>\n",
       "      <td>2017.250000</td>\n",
       "      <td>766.701662</td>\n",
       "      <td>1160.199295</td>\n",
       "      <td>1495.160715</td>\n",
       "      <td>405.479393</td>\n",
       "      <td>3217.212712</td>\n",
       "    </tr>\n",
       "    <tr>\n",
       "      <th>max</th>\n",
       "      <td>2023.000000</td>\n",
       "      <td>996.973153</td>\n",
       "      <td>1487.070005</td>\n",
       "      <td>1983.858741</td>\n",
       "      <td>499.872953</td>\n",
       "      <td>4628.164753</td>\n",
       "    </tr>\n",
       "  </tbody>\n",
       "</table>\n",
       "</div>"
      ],
      "text/plain": [
       "              Year  SolarEnergy   WindEnergy  HydroEnergy  \\\n",
       "count   240.000000   240.000000   240.000000   240.000000   \n",
       "mean   2011.500000   528.523858   857.133260  1076.581975   \n",
       "std       6.936653   271.183089   375.020314   499.981598   \n",
       "min    2000.000000   104.555425   206.021630   320.662607   \n",
       "25%    2005.750000   284.700505   523.572495   593.796081   \n",
       "50%    2011.500000   533.436429   882.024084  1046.390380   \n",
       "75%    2017.250000   766.701662  1160.199295  1495.160715   \n",
       "max    2023.000000   996.973153  1487.070005  1983.858741   \n",
       "\n",
       "       OtherRenewableEnergy  TotalRenewableEnergy  \n",
       "count            240.000000            240.000000  \n",
       "mean             287.127554           2749.366647  \n",
       "std              128.460792            695.126957  \n",
       "min               54.876943            910.381025  \n",
       "25%              176.322725           2250.759951  \n",
       "50%              291.398276           2815.458943  \n",
       "75%              405.479393           3217.212712  \n",
       "max              499.872953           4628.164753  "
      ]
     },
     "execution_count": 58,
     "metadata": {},
     "output_type": "execute_result"
    }
   ],
   "source": [
    "df.describe()"
   ]
  },
  {
   "cell_type": "code",
   "execution_count": 59,
   "metadata": {},
   "outputs": [
    {
     "data": {
      "text/plain": [
       "Year                    0\n",
       "Country                 0\n",
       "SolarEnergy             0\n",
       "WindEnergy              0\n",
       "HydroEnergy             0\n",
       "OtherRenewableEnergy    0\n",
       "TotalRenewableEnergy    0\n",
       "dtype: int64"
      ]
     },
     "execution_count": 59,
     "metadata": {},
     "output_type": "execute_result"
    }
   ],
   "source": [
    "# checking for missing vleus\n",
    "msv = df.isnull().sum()\n",
    "msv"
   ]
  },
  {
   "cell_type": "code",
   "execution_count": 60,
   "metadata": {},
   "outputs": [
    {
     "name": "stderr",
     "output_type": "stream",
     "text": [
      "/tmp/ipykernel_9727/3182329208.py:3: FutureWarning: \n",
      "\n",
      "Passing `palette` without assigning `hue` is deprecated and will be removed in v0.14.0. Assign the `x` variable to `hue` and set `legend=False` for the same effect.\n",
      "\n",
      "  sns.countplot(x=\"Year\", data=df, palette=\"viridis\")\n"
     ]
    },
    {
     "data": {
      "image/png": "[encoded data removed]",
      "text/plain": [
       "<Figure size 1000x600 with 1 Axes>"
      ]
     },
     "metadata": {},
     "output_type": "display_data"
    }
   ],
   "source": [
    "# Distribution of years in the dataset\n",
    "plt.figure(figsize=(10, 6))\n",
    "sns.countplot(x=\"Year\", data=df, palette=\"viridis\")\n",
    "plt.title(\"Year Distribution\")\n",
    "plt.xlabel(\"Year\")\n",
    "plt.ylabel(\"Number of Entries\")\n",
    "plt.xticks(rotation=45)\n",
    "plt.show()"
   ]
  },
  {
   "cell_type": "code",
   "execution_count": 61,
   "metadata": {},
   "outputs": [
    {
     "data": {
      "image/png": "[encoded data removed]",
      "text/plain": [
       "<Figure size 1000x600 with 1 Axes>"
      ]
     },
     "metadata": {},
     "output_type": "display_data"
    }
   ],
   "source": [
    "# Distributions of total ranewable energy Production\n",
    "plt.figure(figsize=(10,6))\n",
    "sns.histplot(df[\"TotalRenewableEnergy\"],kde=True,color=\"Blue\")\n",
    "plt.title(\"Distribution of Total Renewable Energy Production\")\n",
    "plt.xlabel(\"Total Production (Units)\")\n",
    "plt.ylabel(\"Frequency\")\n",
    "plt.show()"
   ]
  },
  {
   "cell_type": "code",
   "execution_count": 62,
   "metadata": {},
   "outputs": [
    {
     "name": "stderr",
     "output_type": "stream",
     "text": [
      "/tmp/ipykernel_9727/594870038.py:3: FutureWarning: \n",
      "\n",
      "The `ci` parameter is deprecated. Use `errorbar=None` for the same effect.\n",
      "\n",
      "  sns.lineplot(x=\"Year\",y=\"TotalRenewableEnergy\",data=df, estimator=\"sum\",ci=None,color=\"green\")\n"
     ]
    },
    {
     "data": {
      "image/png": "[encoded data removed]",
      "text/plain": [
       "<Figure size 1000x600 with 1 Axes>"
      ]
     },
     "metadata": {},
     "output_type": "display_data"
    }
   ],
   "source": [
    "# Trends in renewable energy production by year\n",
    "plt.figure(figsize=(10,6))\n",
    "sns.lineplot(x=\"Year\",y=\"TotalRenewableEnergy\",data=df, estimator=\"sum\",ci=None,color=\"green\")\n",
    "plt.title(\"Trends in Renewable Energy Production by Year\")\n",
    "plt.xlabel(\"Year\")\n",
    "plt.ylabel(\"Total Production (Units)\")\n",
    "plt.show()"
   ]
  },
  {
   "cell_type": "code",
   "execution_count": 67,
   "metadata": {},
   "outputs": [
    {
     "name": "stderr",
     "output_type": "stream",
     "text": [
      "/tmp/ipykernel_9727/3229036571.py:4: FutureWarning: \n",
      "\n",
      "Passing `palette` without assigning `hue` is deprecated and will be removed in v0.14.0. Assign the `y` variable to `hue` and set `legend=False` for the same effect.\n",
      "\n",
      "  sns.barplot(x=\"TotalRenewableEnergy\",y=\"Country\",data=top_countries,palette=\"coolwarm\")\n"
     ]
    },
    {
     "data": {
      "image/png": "[encoded data removed]",
      "text/plain": [
       "<Figure size 1200x600 with 1 Axes>"
      ]
     },
     "metadata": {},
     "output_type": "display_data"
    }
   ],
   "source": [
    "# Renewable Energy Productions by Country(Top 10)\n",
    "top_countries = df.groupby(\"Country\")[\"TotalRenewableEnergy\"].sum().nlargest(10).reset_index()\n",
    "plt.figure(figsize=(12,6))\n",
    "sns.barplot(x=\"TotalRenewableEnergy\",y=\"Country\",data=top_countries,palette=\"coolwarm\")\n",
    "plt.title(\"Top 10 countries by Renewable Engrgy Production\")\n",
    "plt.xlabel(\"Total Production (Unites)\")\n",
    "plt.ylabel(\"Countries\")\n",
    "plt.show()"
   ]
  },
  {
   "cell_type": "code",
   "execution_count": 69,
   "metadata": {},
   "outputs": [
    {
     "data": {
      "image/png": "[encoded data removed]",
      "text/plain": [
       "<Figure size 800x800 with 1 Axes>"
      ]
     },
     "metadata": {},
     "output_type": "display_data"
    }
   ],
   "source": [
    "# Distribution of renewable energy sources\n",
    "energy_sources = df[[\"SolarEnergy\", \"WindEnergy\", \"HydroEnergy\", \"OtherRenewableEnergy\"]].sum()\n",
    "plt.figure(figsize=(8, 8))\n",
    "plt.pie(energy_sources, labels=energy_sources.index, autopct=\"%1.1f%%\", colors=sns.color_palette(\"pastel\"))\n",
    "plt.title(\"Distribution of Renewable Energy Sources\")\n",
    "plt.show()\n"
   ]
  },
  {
   "cell_type": "code",
   "execution_count": 70,
   "metadata": {},
   "outputs": [
    {
     "data": {
      "image/png": "[encoded data removed]",
      "text/plain": [
       "<Figure size 1000x800 with 2 Axes>"
      ]
     },
     "metadata": {},
     "output_type": "display_data"
    }
   ],
   "source": [
    "# Correlations between different energy sources\n",
    "corr_matrix = df[[\"SolarEnergy\", \"WindEnergy\", \"HydroEnergy\", \"OtherRenewableEnergy\", \"TotalRenewableEnergy\"]].corr()\n",
    "plt.figure(figsize=(10, 8))\n",
    "sns.heatmap(corr_matrix, annot=True, cmap=\"coolwarm\", fmt=\".2f\")\n",
    "plt.title(\"Correlation Matrix of Energy Sources\")\n",
    "plt.show()"
   ]
  },
  {
   "cell_type": "code",
   "execution_count": 71,
   "metadata": {},
   "outputs": [
    {
     "data": {
      "application/vnd.plotly.v1+json": {
       "config": {
        "plotlyServerURL": "https://plot.ly"
       },
       "data": [
        {
         "coloraxis": "coloraxis",
         "geo": "geo",
         "hovertemplate": "<b>%{hovertext}</b><br><br>Year=2000<br>Country=%{location}<br>TotalRenewableEnergy=%{z}<extra></extra>",
         "hovertext": [
          "USA",
          "China",
          "India",
          "Germany",
          "UK",
          "France",
          "Brazil",
          "Canada",
          "Australia",
          "Japan"
         ],
         "locationmode": "country names",
         "locations": [
          "USA",
          "China",
          "India",
          "Germany",
          "UK",
          "France",
          "Brazil",
          "Canada",
          "Australia",
          "Japan"
         ],
         "name": "",
         "type": "choropleth",
         "z": {
          "bdata": "UdqH+JkxrUA+syIqG6CbQMu7BmPOkadACzzviIJCm0CyB2ubysamQP+f7iQb0KhAO8Y9tnn3pkBYciXso9+jQJpsiZr4RKRAkPMEk/1HoEA=",
          "dtype": "f8"
         }
        }
       ],
       "frames": [
        {
         "data": [
          {
           "coloraxis": "coloraxis",
           "geo": "geo",
           "hovertemplate": "<b>%{hovertext}</b><br><br>Year=2000<br>Country=%{location}<br>TotalRenewableEnergy=%{z}<extra></extra>",
           "hovertext": [
            "USA",
            "China",
            "India",
            "Germany",
            "UK",
            "France",
            "Brazil",
            "Canada",
            "Australia",
            "Japan"
           ],
           "locationmode": "country names",
           "locations": [
            "USA",
            "China",
            "India",
            "Germany",
            "UK",
            "France",
            "Brazil",
            "Canada",
            "Australia",
            "Japan"
           ],
           "name": "",
           "type": "choropleth",
           "z": {
            "bdata": "UdqH+JkxrUA+syIqG6CbQMu7BmPOkadACzzviIJCm0CyB2ubysamQP+f7iQb0KhAO8Y9tnn3pkBYciXso9+jQJpsiZr4RKRAkPMEk/1HoEA=",
            "dtype": "f8"
           }
          }
         ],
         "name": "2000"
        },
        {
         "data": [
          {
           "coloraxis": "coloraxis",
           "geo": "geo",
           "hovertemplate": "<b>%{hovertext}</b><br><br>Year=2001<br>Country=%{location}<br>TotalRenewableEnergy=%{z}<extra></extra>",
           "hovertext": [
            "USA",
            "China",
            "India",
            "Germany",
            "UK",
            "France",
            "Brazil",
            "Canada",
            "Australia",
            "Japan"
           ],
           "locationmode": "country names",
           "locations": [
            "USA",
            "China",
            "India",
            "Germany",
            "UK",
            "France",
            "Brazil",
            "Canada",
            "Australia",
            "Japan"
           ],
           "name": "",
           "type": "choropleth",
           "z": {
            "bdata": "7g3Dmuwml0AHrr94w7mhQBCMWyiY6LBAoj/uizMLokA39Fmi+ZOwQBvXSkEp7qNAL0I+mU71qUAZbakeQNOpQEtKzg4oIKVAhXtwRAmoqkA=",
            "dtype": "f8"
           }
          }
         ],
         "name": "2001"
        },
        {
         "data": [
          {
           "coloraxis": "coloraxis",
           "geo": "geo",
           "hovertemplate": "<b>%{hovertext}</b><br><br>Year=2002<br>Country=%{location}<br>TotalRenewableEnergy=%{z}<extra></extra>",
           "hovertext": [
            "USA",
            "China",
            "India",
            "Germany",
            "UK",
            "France",
            "Brazil",
            "Canada",
            "Australia",
            "Japan"
           ],
           "locationmode": "country names",
           "locations": [
            "USA",
            "China",
            "India",
            "Germany",
            "UK",
            "France",
            "Brazil",
            "Canada",
            "Australia",
            "Japan"
           ],
           "name": "",
           "type": "choropleth",
           "z": {
            "bdata": "MuID4eYtpEDlj0PRExmmQHkkpoVQgZ9Ait5mbsNBpUBCKjRKuGCnQD5f5F/HCK1AKw+Eu9rcmkAS9sriEhCiQD5jh5Gq16lA632ol4RJnUA=",
            "dtype": "f8"
           }
          }
         ],
         "name": "2002"
        },
        {
         "data": [
          {
           "coloraxis": "coloraxis",
           "geo": "geo",
           "hovertemplate": "<b>%{hovertext}</b><br><br>Year=2003<br>Country=%{location}<br>TotalRenewableEnergy=%{z}<extra></extra>",
           "hovertext": [
            "USA",
            "China",
            "India",
            "Germany",
            "UK",
            "France",
            "Brazil",
            "Canada",
            "Australia",
            "Japan"
           ],
           "locationmode": "country names",
           "locations": [
            "USA",
            "China",
            "India",
            "Germany",
            "UK",
            "France",
            "Brazil",
            "Canada",
            "Australia",
            "Japan"
           ],
           "name": "",
           "type": "choropleth",
           "z": {
            "bdata": "hJXbVL8loEAYOMgkesSXQAZ73GlHO5pAbsgxPWVCpECL5VLgkxisQIS5VSP+VqBAZd/YVXU8l0CR8Zm07NepQJSZKRdvB6RAkDZLhNrxoUA=",
            "dtype": "f8"
           }
          }
         ],
         "name": "2003"
        },
        {
         "data": [
          {
           "coloraxis": "coloraxis",
           "geo": "geo",
           "hovertemplate": "<b>%{hovertext}</b><br><br>Year=2004<br>Country=%{location}<br>TotalRenewableEnergy=%{z}<extra></extra>",
           "hovertext": [
            "USA",
            "China",
            "India",
            "Germany",
            "UK",
            "France",
            "Brazil",
            "Canada",
            "Australia",
            "Japan"
           ],
           "locationmode": "country names",
           "locations": [
            "USA",
            "China",
            "India",
            "Germany",
            "UK",
            "France",
            "Brazil",
            "Canada",
            "Australia",
            "Japan"
           ],
           "name": "",
           "type": "choropleth",
           "z": {
            "bdata": "10E22LhOo0B5waLAdEyvQIJ1u8Kcd6BAS0pzBkMWrEAWBJso7pWoQJ3qWBs5YapAQA1t4cNxp0ABVx+gzS6iQBpkXU4lvahAafXTfSNPnEA=",
            "dtype": "f8"
           }
          }
         ],
         "name": "2004"
        },
        {
         "data": [
          {
           "coloraxis": "coloraxis",
           "geo": "geo",
           "hovertemplate": "<b>%{hovertext}</b><br><br>Year=2005<br>Country=%{location}<br>TotalRenewableEnergy=%{z}<extra></extra>",
           "hovertext": [
            "USA",
            "China",
            "India",
            "Germany",
            "UK",
            "France",
            "Brazil",
            "Canada",
            "Australia",
            "Japan"
           ],
           "locationmode": "country names",
           "locations": [
            "USA",
            "China",
            "India",
            "Germany",
            "UK",
            "France",
            "Brazil",
            "Canada",
            "Australia",
            "Japan"
           ],
           "name": "",
           "type": "choropleth",
           "z": {
            "bdata": "+lXwyxLun0DTZdbtzF+qQHmsgGKQO6ZAopHg0ZyGo0C5B8xAfaGlQCHFd95ZZ6ZADlUcaGZwnEBsmok474+dQLLUz3qMC6ZAYr8pL8QFpkA=",
            "dtype": "f8"
           }
          }
         ],
         "name": "2005"
        },
        {
         "data": [
          {
           "coloraxis": "coloraxis",
           "geo": "geo",
           "hovertemplate": "<b>%{hovertext}</b><br><br>Year=2006<br>Country=%{location}<br>TotalRenewableEnergy=%{z}<extra></extra>",
           "hovertext": [
            "USA",
            "China",
            "India",
            "Germany",
            "UK",
            "France",
            "Brazil",
            "Canada",
            "Australia",
            "Japan"
           ],
           "locationmode": "country names",
           "locations": [
            "USA",
            "China",
            "India",
            "Germany",
            "UK",
            "France",
            "Brazil",
            "Canada",
            "Australia",
            "Japan"
           ],
           "name": "",
           "type": "choropleth",
           "z": {
            "bdata": "jgXe1xW4pECXyBL7fHeoQDa3xWimj6pAqD8b9jmVrEB3uk5LwfOjQBTysI/BiKpADrz1/SuEl0BrzR8bncCgQMuuG+XdJqJAiimcmxPZpEA=",
            "dtype": "f8"
           }
          }
         ],
         "name": "2006"
        },
        {
         "data": [
          {
           "coloraxis": "coloraxis",
           "geo": "geo",
           "hovertemplate": "<b>%{hovertext}</b><br><br>Year=2007<br>Country=%{location}<br>TotalRenewableEnergy=%{z}<extra></extra>",
           "hovertext": [
            "USA",
            "China",
            "India",
            "Germany",
            "UK",
            "France",
            "Brazil",
            "Canada",
            "Australia",
            "Japan"
           ],
           "locationmode": "country names",
           "locations": [
            "USA",
            "China",
            "India",
            "Germany",
            "UK",
            "France",
            "Brazil",
            "Canada",
            "Australia",
            "Japan"
           ],
           "name": "",
           "type": "choropleth",
           "z": {
            "bdata": "bFBC0z1iokBvh3zYq+ioQP/4UXe+AqJAEAe89pFXmUBcA0j94I2rQLSUp3yKvqxAJvD3ABhBnUCIz4LsqJWcQL93cHwF3q1ASzX+WgyLqEA=",
            "dtype": "f8"
           }
          }
         ],
         "name": "2007"
        },
        {
         "data": [
          {
           "coloraxis": "coloraxis",
           "geo": "geo",
           "hovertemplate": "<b>%{hovertext}</b><br><br>Year=2008<br>Country=%{location}<br>TotalRenewableEnergy=%{z}<extra></extra>",
           "hovertext": [
            "USA",
            "China",
            "India",
            "Germany",
            "UK",
            "France",
            "Brazil",
            "Canada",
            "Australia",
            "Japan"
           ],
           "locationmode": "country names",
           "locations": [
            "USA",
            "China",
            "India",
            "Germany",
            "UK",
            "France",
            "Brazil",
            "Canada",
            "Australia",
            "Japan"
           ],
           "name": "",
           "type": "choropleth",
           "z": {
            "bdata": "AHW12+bWrkATFH4fjaOgQJFZO9zCuadAvxGCQivzqUDj2/3MAQ6mQO5V/bAmIKVAoKM06072okDe5XiT3LSmQPuZxBUOY6VAohB4ok23oEA=",
            "dtype": "f8"
           }
          }
         ],
         "name": "2008"
        },
        {
         "data": [
          {
           "coloraxis": "coloraxis",
           "geo": "geo",
           "hovertemplate": "<b>%{hovertext}</b><br><br>Year=2009<br>Country=%{location}<br>TotalRenewableEnergy=%{z}<extra></extra>",
           "hovertext": [
            "USA",
            "China",
            "India",
            "Germany",
            "UK",
            "France",
            "Brazil",
            "Canada",
            "Australia",
            "Japan"
           ],
           "locationmode": "country names",
           "locations": [
            "USA",
            "China",
            "India",
            "Germany",
            "UK",
            "France",
            "Brazil",
            "Canada",
            "Australia",
            "Japan"
           ],
           "name": "",
           "type": "choropleth",
           "z": {
            "bdata": "lW8OJcjYokDel2EuVQKnQGhoVkRgFa5AtBsZVqTMrEBXaoKw7ZylQOO1o88vma1ARLOKJb8pqUCT8eYeHPupQKDqSbsMNK9ALBnO/5eJlkA=",
            "dtype": "f8"
           }
          }
         ],
         "name": "2009"
        },
        {
         "data": [
          {
           "coloraxis": "coloraxis",
           "geo": "geo",
           "hovertemplate": "<b>%{hovertext}</b><br><br>Year=2010<br>Country=%{location}<br>TotalRenewableEnergy=%{z}<extra></extra>",
           "hovertext": [
            "USA",
            "China",
            "India",
            "Germany",
            "UK",
            "France",
            "Brazil",
            "Canada",
            "Australia",
            "Japan"
           ],
           "locationmode": "country names",
           "locations": [
            "USA",
            "China",
            "India",
            "Germany",
            "UK",
            "France",
            "Brazil",
            "Canada",
            "Australia",
            "Japan"
           ],
           "name": "",
           "type": "choropleth",
           "z": {
            "bdata": "e2ydUeA8nUDidnDvnRyoQLHZDI0BRaNAOCSY0b/voUD25VqxhAykQAvLXRRe96xALmX0HFeopUAtEv0SWnqkQPQbouxlbalALaZZUXQqrUA=",
            "dtype": "f8"
           }
          }
         ],
         "name": "2010"
        },
        {
         "data": [
          {
           "coloraxis": "coloraxis",
           "geo": "geo",
           "hovertemplate": "<b>%{hovertext}</b><br><br>Year=2011<br>Country=%{location}<br>TotalRenewableEnergy=%{z}<extra></extra>",
           "hovertext": [
            "USA",
            "China",
            "India",
            "Germany",
            "UK",
            "France",
            "Brazil",
            "Canada",
            "Australia",
            "Japan"
           ],
           "locationmode": "country names",
           "locations": [
            "USA",
            "China",
            "India",
            "Germany",
            "UK",
            "France",
            "Brazil",
            "Canada",
            "Australia",
            "Japan"
           ],
           "name": "",
           "type": "choropleth",
           "z": {
            "bdata": "i5QEpD2Yo0CFuMJ4eRCmQEfmrv+dfqBAvDvJVgxzjEDqYzToGp+aQLmuIusLNKZASSk1az5AnkBIFySBk/CoQCvUoQAvr6xAlKNyKmyKo0A=",
            "dtype": "f8"
           }
          }
         ],
         "name": "2011"
        },
        {
         "data": [
          {
           "coloraxis": "coloraxis",
           "geo": "geo",
           "hovertemplate": "<b>%{hovertext}</b><br><br>Year=2012<br>Country=%{location}<br>TotalRenewableEnergy=%{z}<extra></extra>",
           "hovertext": [
            "USA",
            "China",
            "India",
            "Germany",
            "UK",
            "France",
            "Brazil",
            "Canada",
            "Australia",
            "Japan"
           ],
           "locationmode": "country names",
           "locations": [
            "USA",
            "China",
            "India",
            "Germany",
            "UK",
            "France",
            "Brazil",
            "Canada",
            "Australia",
            "Japan"
           ],
           "name": "",
           "type": "choropleth",
           "z": {
            "bdata": "TnrqSOhmqkCbf8Z+jFGhQFZZaFpcarFAT4u9zJThqEBhXDv6FxGcQJ85YwhdkaxAUmIAPWDxpUCay1+PUAGhQAP4cMojY55A6rSGoWl9pkA=",
            "dtype": "f8"
           }
          }
         ],
         "name": "2012"
        },
        {
         "data": [
          {
           "coloraxis": "coloraxis",
           "geo": "geo",
           "hovertemplate": "<b>%{hovertext}</b><br><br>Year=2013<br>Country=%{location}<br>TotalRenewableEnergy=%{z}<extra></extra>",
           "hovertext": [
            "USA",
            "China",
            "India",
            "Germany",
            "UK",
            "France",
            "Brazil",
            "Canada",
            "Australia",
            "Japan"
           ],
           "locationmode": "country names",
           "locations": [
            "USA",
            "China",
            "India",
            "Germany",
            "UK",
            "France",
            "Brazil",
            "Canada",
            "Australia",
            "Japan"
           ],
           "name": "",
           "type": "choropleth",
           "z": {
            "bdata": "PWZ6KTL0r0Blw5Iu2iylQDe+Rf9Ds6dAs7DCu0kroUBbKww+P5qnQKzookTqQq9AmQz2yHCFpECtnt3oxVGmQFcojrBtmaBA8V3s5mBqq0A=",
            "dtype": "f8"
           }
          }
         ],
         "name": "2013"
        },
        {
         "data": [
          {
           "coloraxis": "coloraxis",
           "geo": "geo",
           "hovertemplate": "<b>%{hovertext}</b><br><br>Year=2014<br>Country=%{location}<br>TotalRenewableEnergy=%{z}<extra></extra>",
           "hovertext": [
            "USA",
            "China",
            "India",
            "Germany",
            "UK",
            "France",
            "Brazil",
            "Canada",
            "Australia",
            "Japan"
           ],
           "locationmode": "country names",
           "locations": [
            "USA",
            "China",
            "India",
            "Germany",
            "UK",
            "France",
            "Brazil",
            "Canada",
            "Australia",
            "Japan"
           ],
           "name": "",
           "type": "choropleth",
           "z": {
            "bdata": "JUIR9dLekkDSpQ0BcwKpQPt15gIOyKlArvlLXZy6pkBiRv7FEfilQO5M2FuQAKRAl3lzB5IToUBSmh92HGiaQDdFA13FBKhA57t5KOnTrkA=",
            "dtype": "f8"
           }
          }
         ],
         "name": "2014"
        },
        {
         "data": [
          {
           "coloraxis": "coloraxis",
           "geo": "geo",
           "hovertemplate": "<b>%{hovertext}</b><br><br>Year=2015<br>Country=%{location}<br>TotalRenewableEnergy=%{z}<extra></extra>",
           "hovertext": [
            "USA",
            "China",
            "India",
            "Germany",
            "UK",
            "France",
            "Brazil",
            "Canada",
            "Australia",
            "Japan"
           ],
           "locationmode": "country names",
           "locations": [
            "USA",
            "China",
            "India",
            "Germany",
            "UK",
            "France",
            "Brazil",
            "Canada",
            "Australia",
            "Japan"
           ],
           "name": "",
           "type": "choropleth",
           "z": {
            "bdata": "54FMgenTpkDUGVrXakGnQOHq/I9wfaJApm5e6QrDp0B6mkAtKhSyQN8R7RVDV6dANtml+x0woEBfuLRI1OqmQPeXYfAebqNABuyVgI6Jm0A=",
            "dtype": "f8"
           }
          }
         ],
         "name": "2015"
        },
        {
         "data": [
          {
           "coloraxis": "coloraxis",
           "geo": "geo",
           "hovertemplate": "<b>%{hovertext}</b><br><br>Year=2016<br>Country=%{location}<br>TotalRenewableEnergy=%{z}<extra></extra>",
           "hovertext": [
            "USA",
            "China",
            "India",
            "Germany",
            "UK",
            "France",
            "Brazil",
            "Canada",
            "Australia",
            "Japan"
           ],
           "locationmode": "country names",
           "locations": [
            "USA",
            "China",
            "India",
            "Germany",
            "UK",
            "France",
            "Brazil",
            "Canada",
            "Australia",
            "Japan"
           ],
           "name": "",
           "type": "choropleth",
           "z": {
            "bdata": "jMrJw89BoUB1x9H5M2KoQDaiW0JspKpA9dk1PccenUBoWUGCO9ukQKRXQZdd7qBAHIUe32jmmEDYHzlQ3kmnQMV4/6ZD559AX4WzQgTwoEA=",
            "dtype": "f8"
           }
          }
         ],
         "name": "2016"
        },
        {
         "data": [
          {
           "coloraxis": "coloraxis",
           "geo": "geo",
           "hovertemplate": "<b>%{hovertext}</b><br><br>Year=2017<br>Country=%{location}<br>TotalRenewableEnergy=%{z}<extra></extra>",
           "hovertext": [
            "USA",
            "China",
            "India",
            "Germany",
            "UK",
            "France",
            "Brazil",
            "Canada",
            "Australia",
            "Japan"
           ],
           "locationmode": "country names",
           "locations": [
            "USA",
            "China",
            "India",
            "Germany",
            "UK",
            "France",
            "Brazil",
            "Canada",
            "Australia",
            "Japan"
           ],
           "name": "",
           "type": "choropleth",
           "z": {
            "bdata": "Ondj0pKUqkDR31Cz0xyjQKbOknPvI6dALImgSnK5qUDtedwXjnmkQOv90tYZfKpAt0/xZFk8qUAPSc/wuRanQGJ6mCn8H6lAXBMsK4GTpEA=",
            "dtype": "f8"
           }
          }
         ],
         "name": "2017"
        },
        {
         "data": [
          {
           "coloraxis": "coloraxis",
           "geo": "geo",
           "hovertemplate": "<b>%{hovertext}</b><br><br>Year=2018<br>Country=%{location}<br>TotalRenewableEnergy=%{z}<extra></extra>",
           "hovertext": [
            "USA",
            "China",
            "India",
            "Germany",
            "UK",
            "France",
            "Brazil",
            "Canada",
            "Australia",
            "Japan"
           ],
           "locationmode": "country names",
           "locations": [
            "USA",
            "China",
            "India",
            "Germany",
            "UK",
            "France",
            "Brazil",
            "Canada",
            "Australia",
            "Japan"
           ],
           "name": "",
           "type": "choropleth",
           "z": {
            "bdata": "voEZmo9ZqUCTrHFiXWykQEi1++9bf65AmVqrw15YpkC5PpCapCqWQF7ruLugt6tA0YYWAGK7okDpuLXxTdumQKSG0oENp6FAnifdpX8VokA=",
            "dtype": "f8"
           }
          }
         ],
         "name": "2018"
        },
        {
         "data": [
          {
           "coloraxis": "coloraxis",
           "geo": "geo",
           "hovertemplate": "<b>%{hovertext}</b><br><br>Year=2019<br>Country=%{location}<br>TotalRenewableEnergy=%{z}<extra></extra>",
           "hovertext": [
            "USA",
            "China",
            "India",
            "Germany",
            "UK",
            "France",
            "Brazil",
            "Canada",
            "Australia",
            "Japan"
           ],
           "locationmode": "country names",
           "locations": [
            "USA",
            "China",
            "India",
            "Germany",
            "UK",
            "France",
            "Brazil",
            "Canada",
            "Australia",
            "Japan"
           ],
           "name": "",
           "type": "choropleth",
           "z": {
            "bdata": "jIchTN5roEBZo8J9LCmkQPx6c1RaL6hAsJtK9F2Rr0BpKBYZFHWoQLwYLcHOhaJAcZ873+v0pkBHzOOI+KWmQPqCk4/78Z1A9cN9V8IzqEA=",
            "dtype": "f8"
           }
          }
         ],
         "name": "2019"
        },
        {
         "data": [
          {
           "coloraxis": "coloraxis",
           "geo": "geo",
           "hovertemplate": "<b>%{hovertext}</b><br><br>Year=2020<br>Country=%{location}<br>TotalRenewableEnergy=%{z}<extra></extra>",
           "hovertext": [
            "USA",
            "China",
            "India",
            "Germany",
            "UK",
            "France",
            "Brazil",
            "Canada",
            "Australia",
            "Japan"
           ],
           "locationmode": "country names",
           "locations": [
            "USA",
            "China",
            "India",
            "Germany",
            "UK",
            "France",
            "Brazil",
            "Canada",
            "Australia",
            "Japan"
           ],
           "name": "",
           "type": "choropleth",
           "z": {
            "bdata": "tBjPxmoYpkDMw5HD2cmqQEtzTJ0VAa1AzTPq1Z0fkUBZetEBvH+mQLeY5XObG5xA+4K+M6FYpUDDiRbdxoihQDUDkfz5LqJA2hAOliY/l0A=",
            "dtype": "f8"
           }
          }
         ],
         "name": "2020"
        },
        {
         "data": [
          {
           "coloraxis": "coloraxis",
           "geo": "geo",
           "hovertemplate": "<b>%{hovertext}</b><br><br>Year=2021<br>Country=%{location}<br>TotalRenewableEnergy=%{z}<extra></extra>",
           "hovertext": [
            "USA",
            "China",
            "India",
            "Germany",
            "UK",
            "France",
            "Brazil",
            "Canada",
            "Australia",
            "Japan"
           ],
           "locationmode": "country names",
           "locations": [
            "USA",
            "China",
            "India",
            "Germany",
            "UK",
            "France",
            "Brazil",
            "Canada",
            "Australia",
            "Japan"
           ],
           "name": "",
           "type": "choropleth",
           "z": {
            "bdata": "Lp/LIbV/pkBVw6Spg/6nQK0cBQO9aa1Ajg1Ja959nUD4BJk4EQGkQHjD+mUzSKRAuKJgYA17qkBNxmghGoCtQF/PH23dEaNAxmafCJGaq0A=",
            "dtype": "f8"
           }
          }
         ],
         "name": "2021"
        },
        {
         "data": [
          {
           "coloraxis": "coloraxis",
           "geo": "geo",
           "hovertemplate": "<b>%{hovertext}</b><br><br>Year=2022<br>Country=%{location}<br>TotalRenewableEnergy=%{z}<extra></extra>",
           "hovertext": [
            "USA",
            "China",
            "India",
            "Germany",
            "UK",
            "France",
            "Brazil",
            "Canada",
            "Australia",
            "Japan"
           ],
           "locationmode": "country names",
           "locations": [
            "USA",
            "China",
            "India",
            "Germany",
            "UK",
            "France",
            "Brazil",
            "Canada",
            "Australia",
            "Japan"
           ],
           "name": "",
           "type": "choropleth",
           "z": {
            "bdata": "ITYNUUg1pEDCU2dafWaqQGvP+uBcFqRAWyoTDSUQp0BoFQoUg+6oQKFsUUXNjahAN/TSAAZblkDPG/9U0HOeQKeeqdbC3KFANfd9qMiBpkA=",
            "dtype": "f8"
           }
          }
         ],
         "name": "2022"
        },
        {
         "data": [
          {
           "coloraxis": "coloraxis",
           "geo": "geo",
           "hovertemplate": "<b>%{hovertext}</b><br><br>Year=2023<br>Country=%{location}<br>TotalRenewableEnergy=%{z}<extra></extra>",
           "hovertext": [
            "USA",
            "China",
            "India",
            "Germany",
            "UK",
            "France",
            "Brazil",
            "Canada",
            "Australia",
            "Japan"
           ],
           "locationmode": "country names",
           "locations": [
            "USA",
            "China",
            "India",
            "Germany",
            "UK",
            "France",
            "Brazil",
            "Canada",
            "Australia",
            "Japan"
           ],
           "name": "",
           "type": "choropleth",
           "z": {
            "bdata": "SfYiMXAarEAWKecPdkyfQI20VoHEmaFA+Zf9A1hsqEC4sP2JRe+pQP9P3L7O+axADzDLHkF7nUCVbrcphU+oQDtqlTMdpqdAyT+FoYMDnEA=",
            "dtype": "f8"
           }
          }
         ],
         "name": "2023"
        }
       ],
       "layout": {
        "coloraxis": {
         "cmax": 4628.164752996172,
         "cmin": 0,
         "colorbar": {
          "title": {
           "text": "TotalRenewableEnergy"
          }
         },
         "colorscale": [
          [
           0,
           "#0d0887"
          ],
          [
           0.1111111111111111,
           "#46039f"
          ],
          [
           0.2222222222222222,
           "#7201a8"
          ],
          [
           0.3333333333333333,
           "#9c179e"
          ],
          [
           0.4444444444444444,
           "#bd3786"
          ],
          [
           0.5555555555555556,
           "#d8576b"
          ],
          [
           0.6666666666666666,
           "#ed7953"
          ],
          [
           0.7777777777777778,
           "#fb9f3a"
          ],
          [
           0.8888888888888888,
           "#fdca26"
          ],
          [
           1,
           "#f0f921"
          ]
         ]
        },
        "geo": {
         "center": {},
         "domain": {
          "x": [
           0,
           1
          ],
          "y": [
           0,
           1
          ]
         }
        },
        "legend": {
         "tracegroupgap": 0
        },
        "sliders": [
         {
          "active": 0,
          "currentvalue": {
           "prefix": "Year="
          },
          "len": 0.9,
          "pad": {
           "b": 10,
           "t": 60
          },
          "steps": [
           {
            "args": [
             [
              "2000"
             ],
             {
              "frame": {
               "duration": 0,
               "redraw": true
              },
              "fromcurrent": true,
              "mode": "immediate",
              "transition": {
               "duration": 0,
               "easing": "linear"
              }
             }
            ],
            "label": "2000",
            "method": "animate"
           },
           {
            "args": [
             [
              "2001"
             ],
             {
              "frame": {
               "duration": 0,
               "redraw": true
              },
              "fromcurrent": true,
              "mode": "immediate",
              "transition": {
               "duration": 0,
               "easing": "linear"
              }
             }
            ],
            "label": "2001",
            "method": "animate"
           },
           {
            "args": [
             [
              "2002"
             ],
             {
              "frame": {
               "duration": 0,
               "redraw": true
              },
              "fromcurrent": true,
              "mode": "immediate",
              "transition": {
               "duration": 0,
               "easing": "linear"
              }
             }
            ],
            "label": "2002",
            "method": "animate"
           },
           {
            "args": [
             [
              "2003"
             ],
             {
              "frame": {
               "duration": 0,
               "redraw": true
              },
              "fromcurrent": true,
              "mode": "immediate",
              "transition": {
               "duration": 0,
               "easing": "linear"
              }
             }
            ],
            "label": "2003",
            "method": "animate"
           },
           {
            "args": [
             [
              "2004"
             ],
             {
              "frame": {
               "duration": 0,
               "redraw": true
              },
              "fromcurrent": true,
              "mode": "immediate",
              "transition": {
               "duration": 0,
               "easing": "linear"
              }
             }
            ],
            "label": "2004",
            "method": "animate"
           },
           {
            "args": [
             [
              "2005"
             ],
             {
              "frame": {
               "duration": 0,
               "redraw": true
              },
              "fromcurrent": true,
              "mode": "immediate",
              "transition": {
               "duration": 0,
               "easing": "linear"
              }
             }
            ],
            "label": "2005",
            "method": "animate"
           },
           {
            "args": [
             [
              "2006"
             ],
             {
              "frame": {
               "duration": 0,
               "redraw": true
              },
              "fromcurrent": true,
              "mode": "immediate",
              "transition": {
               "duration": 0,
               "easing": "linear"
              }
             }
            ],
            "label": "2006",
            "method": "animate"
           },
           {
            "args": [
             [
              "2007"
             ],
             {
              "frame": {
               "duration": 0,
               "redraw": true
              },
              "fromcurrent": true,
              "mode": "immediate",
              "transition": {
               "duration": 0,
               "easing": "linear"
              }
             }
            ],
            "label": "2007",
            "method": "animate"
           },
           {
            "args": [
             [
              "2008"
             ],
             {
              "frame": {
               "duration": 0,
               "redraw": true
              },
              "fromcurrent": true,
              "mode": "immediate",
              "transition": {
               "duration": 0,
               "easing": "linear"
              }
             }
            ],
            "label": "2008",
            "method": "animate"
           },
           {
            "args": [
             [
              "2009"
             ],
             {
              "frame": {
               "duration": 0,
               "redraw": true
              },
              "fromcurrent": true,
              "mode": "immediate",
              "transition": {
               "duration": 0,
               "easing": "linear"
              }
             }
            ],
            "label": "2009",
            "method": "animate"
           },
           {
            "args": [
             [
              "2010"
             ],
             {
              "frame": {
               "duration": 0,
               "redraw": true
              },
              "fromcurrent": true,
              "mode": "immediate",
              "transition": {
               "duration": 0,
               "easing": "linear"
              }
             }
            ],
            "label": "2010",
            "method": "animate"
           },
           {
            "args": [
             [
              "2011"
             ],
             {
              "frame": {
               "duration": 0,
               "redraw": true
              },
              "fromcurrent": true,
              "mode": "immediate",
              "transition": {
               "duration": 0,
               "easing": "linear"
              }
             }
            ],
            "label": "2011",
            "method": "animate"
           },
           {
            "args": [
             [
              "2012"
             ],
             {
              "frame": {
               "duration": 0,
               "redraw": true
              },
              "fromcurrent": true,
              "mode": "immediate",
              "transition": {
               "duration": 0,
               "easing": "linear"
              }
             }
            ],
            "label": "2012",
            "method": "animate"
           },
           {
            "args": [
             [
              "2013"
             ],
             {
              "frame": {
               "duration": 0,
               "redraw": true
              },
              "fromcurrent": true,
              "mode": "immediate",
              "transition": {
               "duration": 0,
               "easing": "linear"
              }
             }
            ],
            "label": "2013",
            "method": "animate"
           },
           {
            "args": [
             [
              "2014"
             ],
             {
              "frame": {
               "duration": 0,
               "redraw": true
              },
              "fromcurrent": true,
              "mode": "immediate",
              "transition": {
               "duration": 0,
               "easing": "linear"
              }
             }
            ],
            "label": "2014",
            "method": "animate"
           },
           {
            "args": [
             [
              "2015"
             ],
             {
              "frame": {
               "duration": 0,
               "redraw": true
              },
              "fromcurrent": true,
              "mode": "immediate",
              "transition": {
               "duration": 0,
               "easing": "linear"
              }
             }
            ],
            "label": "2015",
            "method": "animate"
           },
           {
            "args": [
             [
              "2016"
             ],
             {
              "frame": {
               "duration": 0,
               "redraw": true
              },
              "fromcurrent": true,
              "mode": "immediate",
              "transition": {
               "duration": 0,
               "easing": "linear"
              }
             }
            ],
            "label": "2016",
            "method": "animate"
           },
           {
            "args": [
             [
              "2017"
             ],
             {
              "frame": {
               "duration": 0,
               "redraw": true
              },
              "fromcurrent": true,
              "mode": "immediate",
              "transition": {
               "duration": 0,
               "easing": "linear"
              }
             }
            ],
            "label": "2017",
            "method": "animate"
           },
           {
            "args": [
             [
              "2018"
             ],
             {
              "frame": {
               "duration": 0,
               "redraw": true
              },
              "fromcurrent": true,
              "mode": "immediate",
              "transition": {
               "duration": 0,
               "easing": "linear"
              }
             }
            ],
            "label": "2018",
            "method": "animate"
           },
           {
            "args": [
             [
              "2019"
             ],
             {
              "frame": {
               "duration": 0,
               "redraw": true
              },
              "fromcurrent": true,
              "mode": "immediate",
              "transition": {
               "duration": 0,
               "easing": "linear"
              }
             }
            ],
            "label": "2019",
            "method": "animate"
           },
           {
            "args": [
             [
              "2020"
             ],
             {
              "frame": {
               "duration": 0,
               "redraw": true
              },
              "fromcurrent": true,
              "mode": "immediate",
              "transition": {
               "duration": 0,
               "easing": "linear"
              }
             }
            ],
            "label": "2020",
            "method": "animate"
           },
           {
            "args": [
             [
              "2021"
             ],
             {
              "frame": {
               "duration": 0,
               "redraw": true
              },
              "fromcurrent": true,
              "mode": "immediate",
              "transition": {
               "duration": 0,
               "easing": "linear"
              }
             }
            ],
            "label": "2021",
            "method": "animate"
           },
           {
            "args": [
             [
              "2022"
             ],
             {
              "frame": {
               "duration": 0,
               "redraw": true
              },
              "fromcurrent": true,
              "mode": "immediate",
              "transition": {
               "duration": 0,
               "easing": "linear"
              }
             }
            ],
            "label": "2022",
            "method": "animate"
           },
           {
            "args": [
             [
              "2023"
             ],
             {
              "frame": {
               "duration": 0,
               "redraw": true
              },
              "fromcurrent": true,
              "mode": "immediate",
              "transition": {
               "duration": 0,
               "easing": "linear"
              }
             }
            ],
            "label": "2023",
            "method": "animate"
           }
          ],
          "x": 0.1,
          "xanchor": "left",
          "y": 0,
          "yanchor": "top"
         }
        ],
        "template": {
         "data": {
          "bar": [
           {
            "error_x": {
             "color": "#2a3f5f"
            },
            "error_y": {
             "color": "#2a3f5f"
            },
            "marker": {
             "line": {
              "color": "#E5ECF6",
              "width": 0.5
             },
             "pattern": {
              "fillmode": "overlay",
              "size": 10,
              "solidity": 0.2
             }
            },
            "type": "bar"
           }
          ],
          "barpolar": [
           {
            "marker": {
             "line": {
              "color": "#E5ECF6",
              "width": 0.5
             },
             "pattern": {
              "fillmode": "overlay",
              "size": 10,
              "solidity": 0.2
             }
            },
            "type": "barpolar"
           }
          ],
          "carpet": [
           {
            "aaxis": {
             "endlinecolor": "#2a3f5f",
             "gridcolor": "white",
             "linecolor": "white",
             "minorgridcolor": "white",
             "startlinecolor": "#2a3f5f"
            },
            "baxis": {
             "endlinecolor": "#2a3f5f",
             "gridcolor": "white",
             "linecolor": "white",
             "minorgridcolor": "white",
             "startlinecolor": "#2a3f5f"
            },
            "type": "carpet"
           }
          ],
          "choropleth": [
           {
            "colorbar": {
             "outlinewidth": 0,
             "ticks": ""
            },
            "type": "choropleth"
           }
          ],
          "contour": [
           {
            "colorbar": {
             "outlinewidth": 0,
             "ticks": ""
            },
            "colorscale": [
             [
              0,
              "#0d0887"
             ],
             [
              0.1111111111111111,
              "#46039f"
             ],
             [
              0.2222222222222222,
              "#7201a8"
             ],
             [
              0.3333333333333333,
              "#9c179e"
             ],
             [
              0.4444444444444444,
              "#bd3786"
             ],
             [
              0.5555555555555556,
              "#d8576b"
             ],
             [
              0.6666666666666666,
              "#ed7953"
             ],
             [
              0.7777777777777778,
              "#fb9f3a"
             ],
             [
              0.8888888888888888,
              "#fdca26"
             ],
             [
              1,
              "#f0f921"
             ]
            ],
            "type": "contour"
           }
          ],
          "contourcarpet": [
           {
            "colorbar": {
             "outlinewidth": 0,
             "ticks": ""
            },
            "type": "contourcarpet"
           }
          ],
          "heatmap": [
           {
            "colorbar": {
             "outlinewidth": 0,
             "ticks": ""
            },
            "colorscale": [
             [
              0,
              "#0d0887"
             ],
             [
              0.1111111111111111,
              "#46039f"
             ],
             [
              0.2222222222222222,
              "#7201a8"
             ],
             [
              0.3333333333333333,
              "#9c179e"
             ],
             [
              0.4444444444444444,
              "#bd3786"
             ],
             [
              0.5555555555555556,
              "#d8576b"
             ],
             [
              0.6666666666666666,
              "#ed7953"
             ],
             [
              0.7777777777777778,
              "#fb9f3a"
             ],
             [
              0.8888888888888888,
              "#fdca26"
             ],
             [
              1,
              "#f0f921"
             ]
            ],
            "type": "heatmap"
           }
          ],
          "histogram": [
           {
            "marker": {
             "pattern": {
              "fillmode": "overlay",
              "size": 10,
              "solidity": 0.2
             }
            },
            "type": "histogram"
           }
          ],
          "histogram2d": [
           {
            "colorbar": {
             "outlinewidth": 0,
             "ticks": ""
            },
            "colorscale": [
             [
              0,
              "#0d0887"
             ],
             [
              0.1111111111111111,
              "#46039f"
             ],
             [
              0.2222222222222222,
              "#7201a8"
             ],
             [
              0.3333333333333333,
              "#9c179e"
             ],
             [
              0.4444444444444444,
              "#bd3786"
             ],
             [
              0.5555555555555556,
              "#d8576b"
             ],
             [
              0.6666666666666666,
              "#ed7953"
             ],
             [
              0.7777777777777778,
              "#fb9f3a"
             ],
             [
              0.8888888888888888,
              "#fdca26"
             ],
             [
              1,
              "#f0f921"
             ]
            ],
            "type": "histogram2d"
           }
          ],
          "histogram2dcontour": [
           {
            "colorbar": {
             "outlinewidth": 0,
             "ticks": ""
            },
            "colorscale": [
             [
              0,
              "#0d0887"
             ],
             [
              0.1111111111111111,
              "#46039f"
             ],
             [
              0.2222222222222222,
              "#7201a8"
             ],
             [
              0.3333333333333333,
              "#9c179e"
             ],
             [
              0.4444444444444444,
              "#bd3786"
             ],
             [
              0.5555555555555556,
              "#d8576b"
             ],
             [
              0.6666666666666666,
              "#ed7953"
             ],
             [
              0.7777777777777778,
              "#fb9f3a"
             ],
             [
              0.8888888888888888,
              "#fdca26"
             ],
             [
              1,
              "#f0f921"
             ]
            ],
            "type": "histogram2dcontour"
           }
          ],
          "mesh3d": [
           {
            "colorbar": {
             "outlinewidth": 0,
             "ticks": ""
            },
            "type": "mesh3d"
           }
          ],
          "parcoords": [
           {
            "line": {
             "colorbar": {
              "outlinewidth": 0,
              "ticks": ""
             }
            },
            "type": "parcoords"
           }
          ],
          "pie": [
           {
            "automargin": true,
            "type": "pie"
           }
          ],
          "scatter": [
           {
            "fillpattern": {
             "fillmode": "overlay",
             "size": 10,
             "solidity": 0.2
            },
            "type": "scatter"
           }
          ],
          "scatter3d": [
           {
            "line": {
             "colorbar": {
              "outlinewidth": 0,
              "ticks": ""
             }
            },
            "marker": {
             "colorbar": {
              "outlinewidth": 0,
              "ticks": ""
             }
            },
            "type": "scatter3d"
           }
          ],
          "scattercarpet": [
           {
            "marker": {
             "colorbar": {
              "outlinewidth": 0,
              "ticks": ""
             }
            },
            "type": "scattercarpet"
           }
          ],
          "scattergeo": [
           {
            "marker": {
             "colorbar": {
              "outlinewidth": 0,
              "ticks": ""
             }
            },
            "type": "scattergeo"
           }
          ],
          "scattergl": [
           {
            "marker": {
             "colorbar": {
              "outlinewidth": 0,
              "ticks": ""
             }
            },
            "type": "scattergl"
           }
          ],
          "scattermap": [
           {
            "marker": {
             "colorbar": {
              "outlinewidth": 0,
              "ticks": ""
             }
            },
            "type": "scattermap"
           }
          ],
          "scattermapbox": [
           {
            "marker": {
             "colorbar": {
              "outlinewidth": 0,
              "ticks": ""
             }
            },
            "type": "scattermapbox"
           }
          ],
          "scatterpolar": [
           {
            "marker": {
             "colorbar": {
              "outlinewidth": 0,
              "ticks": ""
             }
            },
            "type": "scatterpolar"
           }
          ],
          "scatterpolargl": [
           {
            "marker": {
             "colorbar": {
              "outlinewidth": 0,
              "ticks": ""
             }
            },
            "type": "scatterpolargl"
           }
          ],
          "scatterternary": [
           {
            "marker": {
             "colorbar": {
              "outlinewidth": 0,
              "ticks": ""
             }
            },
            "type": "scatterternary"
           }
          ],
          "surface": [
           {
            "colorbar": {
             "outlinewidth": 0,
             "ticks": ""
            },
            "colorscale": [
             [
              0,
              "#0d0887"
             ],
             [
              0.1111111111111111,
              "#46039f"
             ],
             [
              0.2222222222222222,
              "#7201a8"
             ],
             [
              0.3333333333333333,
              "#9c179e"
             ],
             [
              0.4444444444444444,
              "#bd3786"
             ],
             [
              0.5555555555555556,
              "#d8576b"
             ],
             [
              0.6666666666666666,
              "#ed7953"
             ],
             [
              0.7777777777777778,
              "#fb9f3a"
             ],
             [
              0.8888888888888888,
              "#fdca26"
             ],
             [
              1,
              "#f0f921"
             ]
            ],
            "type": "surface"
           }
          ],
          "table": [
           {
            "cells": {
             "fill": {
              "color": "#EBF0F8"
             },
             "line": {
              "color": "white"
             }
            },
            "header": {
             "fill": {
              "color": "#C8D4E3"
             },
             "line": {
              "color": "white"
             }
            },
            "type": "table"
           }
          ]
         },
         "layout": {
          "annotationdefaults": {
           "arrowcolor": "#2a3f5f",
           "arrowhead": 0,
           "arrowwidth": 1
          },
          "autotypenumbers": "strict",
          "coloraxis": {
           "colorbar": {
            "outlinewidth": 0,
            "ticks": ""
           }
          },
          "colorscale": {
           "diverging": [
            [
             0,
             "#8e0152"
            ],
            [
             0.1,
             "#c51b7d"
            ],
            [
             0.2,
             "#de77ae"
            ],
            [
             0.3,
             "#f1b6da"
            ],
            [
             0.4,
             "#fde0ef"
            ],
            [
             0.5,
             "#f7f7f7"
            ],
            [
             0.6,
             "#e6f5d0"
            ],
            [
             0.7,
             "#b8e186"
            ],
            [
             0.8,
             "#7fbc41"
            ],
            [
             0.9,
             "#4d9221"
            ],
            [
             1,
             "#276419"
            ]
           ],
           "sequential": [
            [
             0,
             "#0d0887"
            ],
            [
             0.1111111111111111,
             "#46039f"
            ],
            [
             0.2222222222222222,
             "#7201a8"
            ],
            [
             0.3333333333333333,
             "#9c179e"
            ],
            [
             0.4444444444444444,
             "#bd3786"
            ],
            [
             0.5555555555555556,
             "#d8576b"
            ],
            [
             0.6666666666666666,
             "#ed7953"
            ],
            [
             0.7777777777777778,
             "#fb9f3a"
            ],
            [
             0.8888888888888888,
             "#fdca26"
            ],
            [
             1,
             "#f0f921"
            ]
           ],
           "sequentialminus": [
            [
             0,
             "#0d0887"
            ],
            [
             0.1111111111111111,
             "#46039f"
            ],
            [
             0.2222222222222222,
             "#7201a8"
            ],
            [
             0.3333333333333333,
             "#9c179e"
            ],
            [
             0.4444444444444444,
             "#bd3786"
            ],
            [
             0.5555555555555556,
             "#d8576b"
            ],
            [
             0.6666666666666666,
             "#ed7953"
            ],
            [
             0.7777777777777778,
             "#fb9f3a"
            ],
            [
             0.8888888888888888,
             "#fdca26"
            ],
            [
             1,
             "#f0f921"
            ]
           ]
          },
          "colorway": [
           "#636efa",
           "#EF553B",
           "#00cc96",
           "#ab63fa",
           "#FFA15A",
           "#19d3f3",
           "#FF6692",
           "#B6E880",
           "#FF97FF",
           "#FECB52"
          ],
          "font": {
           "color": "#2a3f5f"
          },
          "geo": {
           "bgcolor": "white",
           "lakecolor": "white",
           "landcolor": "#E5ECF6",
           "showlakes": true,
           "showland": true,
           "subunitcolor": "white"
          },
          "hoverlabel": {
           "align": "left"
          },
          "hovermode": "closest",
          "mapbox": {
           "style": "light"
          },
          "paper_bgcolor": "white",
          "plot_bgcolor": "#E5ECF6",
          "polar": {
           "angularaxis": {
            "gridcolor": "white",
            "linecolor": "white",
            "ticks": ""
           },
           "bgcolor": "#E5ECF6",
           "radialaxis": {
            "gridcolor": "white",
            "linecolor": "white",
            "ticks": ""
           }
          },
          "scene": {
           "xaxis": {
            "backgroundcolor": "#E5ECF6",
            "gridcolor": "white",
            "gridwidth": 2,
            "linecolor": "white",
            "showbackground": true,
            "ticks": "",
            "zerolinecolor": "white"
           },
           "yaxis": {
            "backgroundcolor": "#E5ECF6",
            "gridcolor": "white",
            "gridwidth": 2,
            "linecolor": "white",
            "showbackground": true,
            "ticks": "",
            "zerolinecolor": "white"
           },
           "zaxis": {
            "backgroundcolor": "#E5ECF6",
            "gridcolor": "white",
            "gridwidth": 2,
            "linecolor": "white",
            "showbackground": true,
            "ticks": "",
            "zerolinecolor": "white"
           }
          },
          "shapedefaults": {
           "line": {
            "color": "#2a3f5f"
           }
          },
          "ternary": {
           "aaxis": {
            "gridcolor": "white",
            "linecolor": "white",
            "ticks": ""
           },
           "baxis": {
            "gridcolor": "white",
            "linecolor": "white",
            "ticks": ""
           },
           "bgcolor": "#E5ECF6",
           "caxis": {
            "gridcolor": "white",
            "linecolor": "white",
            "ticks": ""
           }
          },
          "title": {
           "x": 0.05
          },
          "xaxis": {
           "automargin": true,
           "gridcolor": "white",
           "linecolor": "white",
           "ticks": "",
           "title": {
            "standoff": 15
           },
           "zerolinecolor": "white",
           "zerolinewidth": 2
          },
          "yaxis": {
           "automargin": true,
           "gridcolor": "white",
           "linecolor": "white",
           "ticks": "",
           "title": {
            "standoff": 15
           },
           "zerolinecolor": "white",
           "zerolinewidth": 2
          }
         }
        },
        "title": {
         "text": "Renewable Energy Production by Country and Year"
        },
        "updatemenus": [
         {
          "buttons": [
           {
            "args": [
             null,
             {
              "frame": {
               "duration": 500,
               "redraw": true
              },
              "fromcurrent": true,
              "mode": "immediate",
              "transition": {
               "duration": 500,
               "easing": "linear"
              }
             }
            ],
            "label": "&#9654;",
            "method": "animate"
           },
           {
            "args": [
             [
              null
             ],
             {
              "frame": {
               "duration": 0,
               "redraw": true
              },
              "fromcurrent": true,
              "mode": "immediate",
              "transition": {
               "duration": 0,
               "easing": "linear"
              }
             }
            ],
            "label": "&#9724;",
            "method": "animate"
           }
          ],
          "direction": "left",
          "pad": {
           "r": 10,
           "t": 70
          },
          "showactive": false,
          "type": "buttons",
          "x": 0.1,
          "xanchor": "right",
          "y": 0,
          "yanchor": "top"
         }
        ]
       }
      }
     },
     "metadata": {},
     "output_type": "display_data"
    }
   ],
   "source": [
    "# Interactive visualization of production by country and year\n",
    "fig = px.choropleth(df, \n",
    "                    locations=\"Country\", \n",
    "                    locationmode=\"country names\", \n",
    "                    color=\"TotalRenewableEnergy\", \n",
    "                    hover_name=\"Country\", \n",
    "                    animation_frame=\"Year\", \n",
    "                    range_color=[0, df[\"TotalRenewableEnergy\"].max()], \n",
    "                    title=\"Renewable Energy Production by Country and Year\")\n",
    "fig.show()"
   ]
  },
  {
   "cell_type": "code",
   "execution_count": 72,
   "metadata": {},
   "outputs": [
    {
     "name": "stdout",
     "output_type": "stream",
     "text": [
      "\n",
      "Conclusion of the Exploratory Data Analysis (EDA):\n",
      "1. The dataset contains annual data on renewable energy production for several countries.\n",
      "2. No missing values were detected.\n",
      "3. The trends show a global increase in renewable energy production over the years.\n",
      "4. Some countries dominate in terms of total production.\n",
      "5. Renewable energy sources are well distributed, with hydroelectric power being the dominant source.\n",
      "6. Positive correlations exist between certain energy sources.\n",
      "\n"
     ]
    }
   ],
   "source": [
    "# Conclusion of the EDA\n",
    "print(\"\"\"\n",
    "Conclusion of the Exploratory Data Analysis (EDA):\n",
    "1. The dataset contains annual data on renewable energy production for several countries.\n",
    "2. No missing values were detected.\n",
    "3. The trends show a global increase in renewable energy production over the years.\n",
    "4. Some countries dominate in terms of total production.\n",
    "5. Renewable energy sources are well distributed, with hydroelectric power being the dominant source.\n",
    "6. Positive correlations exist between certain energy sources.\n",
    "\"\"\")"
   ]
  },
  {
   "cell_type": "code",
   "execution_count": null,
   "metadata": {},
   "outputs": [],
   "source": []
  }
 ],
 "metadata": {
  "kernelspec": {
   "display_name": "ai",
   "language": "python",
   "name": "python3"
  },
  "language_info": {
   "codemirror_mode": {
    "name": "ipython",
    "version": 3
   },
   "file_extension": ".py",
   "mimetype": "text/x-python",
   "name": "python",
   "nbconvert_exporter": "python",
   "pygments_lexer": "ipython3",
   "version": "3.10.16"
  }
 },
 "nbformat": 4,
 "nbformat_minor": 2
}
