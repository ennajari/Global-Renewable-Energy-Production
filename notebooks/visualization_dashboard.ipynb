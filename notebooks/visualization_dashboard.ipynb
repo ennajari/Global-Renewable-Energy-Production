{
 "cells": [
  {
   "cell_type": "markdown",
   "metadata": {},
   "source": [
    "#### This notebook focuses on creating an interactive dashboard to visualize model results and data.\n"
   ]
  },
  {
   "cell_type": "code",
   "execution_count": 1,
   "metadata": {},
   "outputs": [],
   "source": [
    "import pandas as pd\n",
    "import numpy as np\n",
    "import matplotlib.pyplot as plt\n",
    "import seaborn as sns\n",
    "import plotly.express as px\n",
    "import plotly.graph_objects as go\n",
    "from plotly.subplots import make_subplots\n",
    "import joblib"
   ]
  },
  {
   "cell_type": "code",
   "execution_count": 2,
   "metadata": {},
   "outputs": [],
   "source": [
    "# Load the feature-engineered dataset\n",
    "feature_engineered_data_path = \"../data/processed/feature_engineered_energy_data.csv\"\n",
    "df = pd.read_csv(feature_engineered_data_path)"
   ]
  },
  {
   "cell_type": "code",
   "execution_count": 3,
   "metadata": {},
   "outputs": [],
   "source": [
    "# Load the best saved model\n",
    "model_save_path = \"../data/models/trained_models.pkl\"\n",
    "best_model = joblib.load(model_save_path)"
   ]
  },
  {
   "cell_type": "code",
   "execution_count": 4,
   "metadata": {},
   "outputs": [
    {
     "name": "stderr",
     "output_type": "stream",
     "text": [
      "/home/abdellah-ennajari/miniconda3/envs/ai/lib/python3.10/site-packages/xgboost/core.py:158: UserWarning: [00:33:10] WARNING: /home/conda/feedstock_root/build_artifacts/xgboost-split_1738880369036/work/src/common/error_msg.cc:58: Falling back to prediction using DMatrix due to mismatched devices. This might lead to higher memory usage and slower performance. XGBoost is running on: cuda:0, while the input data is on: cpu.\n",
      "Potential solutions:\n",
      "- Use a data structure that matches the device ordinal in the booster.\n",
      "- Set the device for booster before call to inplace_predict.\n",
      "\n",
      "This warning will only be shown once.\n",
      "\n",
      "  warnings.warn(smsg, UserWarning)\n"
     ]
    }
   ],
   "source": [
    "# Model predictions\n",
    "df['PredictedTotalRenewableEnergy'] = best_model.predict(df.drop(columns=['TotalRenewableEnergy', 'Country']))"
   ]
  },
  {
   "cell_type": "code",
   "execution_count": 5,
   "metadata": {},
   "outputs": [
    {
     "data": {
      "application/vnd.plotly.v1+json": {
       "config": {
        "plotlyServerURL": "https://plot.ly"
       },
       "data": [
        {
         "hovertemplate": "Actual Values=%{x}<br>Predictions=%{y}<extra></extra>",
         "legendgroup": "",
         "marker": {
          "color": "#636efa",
          "symbol": "circle"
         },
         "mode": "markers",
         "name": "",
         "orientation": "v",
         "showlegend": false,
         "type": "scatter",
         "x": {
          "bdata": "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",
          "dtype": "f8"
         },
         "xaxis": "x",
         "y": {
          "bdata": "1ia2PyDp6b9heXa+5y58v6PkzL6NLoK/3uMzvu84Er/vFN0/gY8Nv0BooL9iBrK+649oP1ZC9z+6Og7AkqpwPtuaTL+m83A/N800P946bb9jQOg9YmlAPv4tcL6bc5w/OzWjvy5tNb8nFeo9iMTiv9n65z+HH2c/U+sIP8ZMIj9552S/+dmQPpQ3+T44O909LqdEv1djZL09JCU/3gOoPqpJCT8ced++Xr1HvnVIeb7rw3o/iVTWPm6AaD8Cr4m/UnDFPv+0EUArT4e/c5/Fv7/HbL/8yQ4+HYtvP5RCJ78o5tM+3CnLP+K80L7QdGu/8akdQDa90T6ER0s/XlcNvwgIdD9/xZw+UevMPzKk/z5iy7E/o5O0P7hug75EFTe/Tnm5v+0wIr8l3Cq9kkpmvkD4mz/Ab7i+HdSnP+IV3L/QKFM/2PmsP2ILKL+boSnAJxIgP6EQTL++YmU+wDTXPrx+o789tkg/AhMkPhRM7j95khjA5L2YvwirlT7ArQo/FQhmPvntCUCJ87M+P1ScP2bPEj/0Y+U8aVeQvseHjz+bO9Q9rd/LPFsCh77E6MC/D9qvvxGhxT5ogLo9XEYtQDAz7r2duj6+ZMUKwCKIDD8reEA+uo6LvkDmIj/njVI/iz8dP1uJkr6jYLI/M1pyv6tzZz9kIic+56huP0S+nz8kZYW9OZy/P3bgsD93iAg+dn6nPxgH5z+/pYu+LF+vPlOZVr9dV2w/7V+TPxqVC79bWq+/g6tivoa1ET8fzrk/KpOMPsd9Uz+cGL6/I+vov/c5uT6ndKu/jNjlv/Lnob9Ipgy/gc8lP78eBT2g8ZW/l1sgPRzpNL4MrU+/sXl6v3ZH1b9KGzI/tN0Bv6Lbiz4BFsW81vhnP2FH878KIJ+/TCa3vnkvTT+fKyG/nRZOPxDvHr/uG56/fI9fv/f8qL9grm8+XJ9UPyUcPL7+lSM/HFZTv0pEHj7OSsa/oguHPrYeqz5hc5Q+/niCPmJ1XT6n2Tq/imG9PzrHk7++zwU/sfZ7vvKuhb2MKk4/R/iIvmHxGT8Fb9U9ucAcv6BBxj8MOoe8B+3aP3m8Oj99Bqo/m3KUv6uTZr/zsdU+eWLBvqy7gr8Riys/RLg0v1rFmb9hqxu/CMDivhbJKr8Ffcw+fSx1v7mSdD8IWqG/+Pkmv90Krb+dkr095T/vveoGET82O2G/7hrxv0CYtT9IL7S+6CgqPtxujD9+7NM/bee1v+QNVr/wpDO+SGcgv50//T5u2+i/3wGTP8JQQD4SZ7C/",
          "dtype": "f4"
         },
         "yaxis": "y"
        },
        {
         "hovertemplate": "<b>OLS trendline</b><br>PredictedTotalRenewableEnergy = 0.999714 * TotalRenewableEnergy + -0.0044832<br>R<sup>2</sup>=0.999377<br><br>Actual Values=%{x}<br>Predictions=%{y} <b>(trend)</b><extra></extra>",
         "legendgroup": "",
         "marker": {
          "color": "#636efa",
          "symbol": "circle"
         },
         "mode": "lines",
         "name": "",
         "showlegend": false,
         "type": "scatter",
         "x": {
          "bdata": "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",
          "dtype": "f8"
         },
         "xaxis": "x",
         "y": {
          "bdata": "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",
          "dtype": "f8"
         },
         "yaxis": "y"
        }
       ],
       "layout": {
        "legend": {
         "tracegroupgap": 0
        },
        "template": {
         "data": {
          "bar": [
           {
            "error_x": {
             "color": "#2a3f5f"
            },
            "error_y": {
             "color": "#2a3f5f"
            },
            "marker": {
             "line": {
              "color": "#E5ECF6",
              "width": 0.5
             },
             "pattern": {
              "fillmode": "overlay",
              "size": 10,
              "solidity": 0.2
             }
            },
            "type": "bar"
           }
          ],
          "barpolar": [
           {
            "marker": {
             "line": {
              "color": "#E5ECF6",
              "width": 0.5
             },
             "pattern": {
              "fillmode": "overlay",
              "size": 10,
              "solidity": 0.2
             }
            },
            "type": "barpolar"
           }
          ],
          "carpet": [
           {
            "aaxis": {
             "endlinecolor": "#2a3f5f",
             "gridcolor": "white",
             "linecolor": "white",
             "minorgridcolor": "white",
             "startlinecolor": "#2a3f5f"
            },
            "baxis": {
             "endlinecolor": "#2a3f5f",
             "gridcolor": "white",
             "linecolor": "white",
             "minorgridcolor": "white",
             "startlinecolor": "#2a3f5f"
            },
            "type": "carpet"
           }
          ],
          "choropleth": [
           {
            "colorbar": {
             "outlinewidth": 0,
             "ticks": ""
            },
            "type": "choropleth"
           }
          ],
          "contour": [
           {
            "colorbar": {
             "outlinewidth": 0,
             "ticks": ""
            },
            "colorscale": [
             [
              0,
              "#0d0887"
             ],
             [
              0.1111111111111111,
              "#46039f"
             ],
             [
              0.2222222222222222,
              "#7201a8"
             ],
             [
              0.3333333333333333,
              "#9c179e"
             ],
             [
              0.4444444444444444,
              "#bd3786"
             ],
             [
              0.5555555555555556,
              "#d8576b"
             ],
             [
              0.6666666666666666,
              "#ed7953"
             ],
             [
              0.7777777777777778,
              "#fb9f3a"
             ],
             [
              0.8888888888888888,
              "#fdca26"
             ],
             [
              1,
              "#f0f921"
             ]
            ],
            "type": "contour"
           }
          ],
          "contourcarpet": [
           {
            "colorbar": {
             "outlinewidth": 0,
             "ticks": ""
            },
            "type": "contourcarpet"
           }
          ],
          "heatmap": [
           {
            "colorbar": {
             "outlinewidth": 0,
             "ticks": ""
            },
            "colorscale": [
             [
              0,
              "#0d0887"
             ],
             [
              0.1111111111111111,
              "#46039f"
             ],
             [
              0.2222222222222222,
              "#7201a8"
             ],
             [
              0.3333333333333333,
              "#9c179e"
             ],
             [
              0.4444444444444444,
              "#bd3786"
             ],
             [
              0.5555555555555556,
              "#d8576b"
             ],
             [
              0.6666666666666666,
              "#ed7953"
             ],
             [
              0.7777777777777778,
              "#fb9f3a"
             ],
             [
              0.8888888888888888,
              "#fdca26"
             ],
             [
              1,
              "#f0f921"
             ]
            ],
            "type": "heatmap"
           }
          ],
          "histogram": [
           {
            "marker": {
             "pattern": {
              "fillmode": "overlay",
              "size": 10,
              "solidity": 0.2
             }
            },
            "type": "histogram"
           }
          ],
          "histogram2d": [
           {
            "colorbar": {
             "outlinewidth": 0,
             "ticks": ""
            },
            "colorscale": [
             [
              0,
              "#0d0887"
             ],
             [
              0.1111111111111111,
              "#46039f"
             ],
             [
              0.2222222222222222,
              "#7201a8"
             ],
             [
              0.3333333333333333,
              "#9c179e"
             ],
             [
              0.4444444444444444,
              "#bd3786"
             ],
             [
              0.5555555555555556,
              "#d8576b"
             ],
             [
              0.6666666666666666,
              "#ed7953"
             ],
             [
              0.7777777777777778,
              "#fb9f3a"
             ],
             [
              0.8888888888888888,
              "#fdca26"
             ],
             [
              1,
              "#f0f921"
             ]
            ],
            "type": "histogram2d"
           }
          ],
          "histogram2dcontour": [
           {
            "colorbar": {
             "outlinewidth": 0,
             "ticks": ""
            },
            "colorscale": [
             [
              0,
              "#0d0887"
             ],
             [
              0.1111111111111111,
              "#46039f"
             ],
             [
              0.2222222222222222,
              "#7201a8"
             ],
             [
              0.3333333333333333,
              "#9c179e"
             ],
             [
              0.4444444444444444,
              "#bd3786"
             ],
             [
              0.5555555555555556,
              "#d8576b"
             ],
             [
              0.6666666666666666,
              "#ed7953"
             ],
             [
              0.7777777777777778,
              "#fb9f3a"
             ],
             [
              0.8888888888888888,
              "#fdca26"
             ],
             [
              1,
              "#f0f921"
             ]
            ],
            "type": "histogram2dcontour"
           }
          ],
          "mesh3d": [
           {
            "colorbar": {
             "outlinewidth": 0,
             "ticks": ""
            },
            "type": "mesh3d"
           }
          ],
          "parcoords": [
           {
            "line": {
             "colorbar": {
              "outlinewidth": 0,
              "ticks": ""
             }
            },
            "type": "parcoords"
           }
          ],
          "pie": [
           {
            "automargin": true,
            "type": "pie"
           }
          ],
          "scatter": [
           {
            "fillpattern": {
             "fillmode": "overlay",
             "size": 10,
             "solidity": 0.2
            },
            "type": "scatter"
           }
          ],
          "scatter3d": [
           {
            "line": {
             "colorbar": {
              "outlinewidth": 0,
              "ticks": ""
             }
            },
            "marker": {
             "colorbar": {
              "outlinewidth": 0,
              "ticks": ""
             }
            },
            "type": "scatter3d"
           }
          ],
          "scattercarpet": [
           {
            "marker": {
             "colorbar": {
              "outlinewidth": 0,
              "ticks": ""
             }
            },
            "type": "scattercarpet"
           }
          ],
          "scattergeo": [
           {
            "marker": {
             "colorbar": {
              "outlinewidth": 0,
              "ticks": ""
             }
            },
            "type": "scattergeo"
           }
          ],
          "scattergl": [
           {
            "marker": {
             "colorbar": {
              "outlinewidth": 0,
              "ticks": ""
             }
            },
            "type": "scattergl"
           }
          ],
          "scattermap": [
           {
            "marker": {
             "colorbar": {
              "outlinewidth": 0,
              "ticks": ""
             }
            },
            "type": "scattermap"
           }
          ],
          "scattermapbox": [
           {
            "marker": {
             "colorbar": {
              "outlinewidth": 0,
              "ticks": ""
             }
            },
            "type": "scattermapbox"
           }
          ],
          "scatterpolar": [
           {
            "marker": {
             "colorbar": {
              "outlinewidth": 0,
              "ticks": ""
             }
            },
            "type": "scatterpolar"
           }
          ],
          "scatterpolargl": [
           {
            "marker": {
             "colorbar": {
              "outlinewidth": 0,
              "ticks": ""
             }
            },
            "type": "scatterpolargl"
           }
          ],
          "scatterternary": [
           {
            "marker": {
             "colorbar": {
              "outlinewidth": 0,
              "ticks": ""
             }
            },
            "type": "scatterternary"
           }
          ],
          "surface": [
           {
            "colorbar": {
             "outlinewidth": 0,
             "ticks": ""
            },
            "colorscale": [
             [
              0,
              "#0d0887"
             ],
             [
              0.1111111111111111,
              "#46039f"
             ],
             [
              0.2222222222222222,
              "#7201a8"
             ],
             [
              0.3333333333333333,
              "#9c179e"
             ],
             [
              0.4444444444444444,
              "#bd3786"
             ],
             [
              0.5555555555555556,
              "#d8576b"
             ],
             [
              0.6666666666666666,
              "#ed7953"
             ],
             [
              0.7777777777777778,
              "#fb9f3a"
             ],
             [
              0.8888888888888888,
              "#fdca26"
             ],
             [
              1,
              "#f0f921"
             ]
            ],
            "type": "surface"
           }
          ],
          "table": [
           {
            "cells": {
             "fill": {
              "color": "#EBF0F8"
             },
             "line": {
              "color": "white"
             }
            },
            "header": {
             "fill": {
              "color": "#C8D4E3"
             },
             "line": {
              "color": "white"
             }
            },
            "type": "table"
           }
          ]
         },
         "layout": {
          "annotationdefaults": {
           "arrowcolor": "#2a3f5f",
           "arrowhead": 0,
           "arrowwidth": 1
          },
          "autotypenumbers": "strict",
          "coloraxis": {
           "colorbar": {
            "outlinewidth": 0,
            "ticks": ""
           }
          },
          "colorscale": {
           "diverging": [
            [
             0,
             "#8e0152"
            ],
            [
             0.1,
             "#c51b7d"
            ],
            [
             0.2,
             "#de77ae"
            ],
            [
             0.3,
             "#f1b6da"
            ],
            [
             0.4,
             "#fde0ef"
            ],
            [
             0.5,
             "#f7f7f7"
            ],
            [
             0.6,
             "#e6f5d0"
            ],
            [
             0.7,
             "#b8e186"
            ],
            [
             0.8,
             "#7fbc41"
            ],
            [
             0.9,
             "#4d9221"
            ],
            [
             1,
             "#276419"
            ]
           ],
           "sequential": [
            [
             0,
             "#0d0887"
            ],
            [
             0.1111111111111111,
             "#46039f"
            ],
            [
             0.2222222222222222,
             "#7201a8"
            ],
            [
             0.3333333333333333,
             "#9c179e"
            ],
            [
             0.4444444444444444,
             "#bd3786"
            ],
            [
             0.5555555555555556,
             "#d8576b"
            ],
            [
             0.6666666666666666,
             "#ed7953"
            ],
            [
             0.7777777777777778,
             "#fb9f3a"
            ],
            [
             0.8888888888888888,
             "#fdca26"
            ],
            [
             1,
             "#f0f921"
            ]
           ],
           "sequentialminus": [
            [
             0,
             "#0d0887"
            ],
            [
             0.1111111111111111,
             "#46039f"
            ],
            [
             0.2222222222222222,
             "#7201a8"
            ],
            [
             0.3333333333333333,
             "#9c179e"
            ],
            [
             0.4444444444444444,
             "#bd3786"
            ],
            [
             0.5555555555555556,
             "#d8576b"
            ],
            [
             0.6666666666666666,
             "#ed7953"
            ],
            [
             0.7777777777777778,
             "#fb9f3a"
            ],
            [
             0.8888888888888888,
             "#fdca26"
            ],
            [
             1,
             "#f0f921"
            ]
           ]
          },
          "colorway": [
           "#636efa",
           "#EF553B",
           "#00cc96",
           "#ab63fa",
           "#FFA15A",
           "#19d3f3",
           "#FF6692",
           "#B6E880",
           "#FF97FF",
           "#FECB52"
          ],
          "font": {
           "color": "#2a3f5f"
          },
          "geo": {
           "bgcolor": "white",
           "lakecolor": "white",
           "landcolor": "#E5ECF6",
           "showlakes": true,
           "showland": true,
           "subunitcolor": "white"
          },
          "hoverlabel": {
           "align": "left"
          },
          "hovermode": "closest",
          "mapbox": {
           "style": "light"
          },
          "paper_bgcolor": "white",
          "plot_bgcolor": "#E5ECF6",
          "polar": {
           "angularaxis": {
            "gridcolor": "white",
            "linecolor": "white",
            "ticks": ""
           },
           "bgcolor": "#E5ECF6",
           "radialaxis": {
            "gridcolor": "white",
            "linecolor": "white",
            "ticks": ""
           }
          },
          "scene": {
           "xaxis": {
            "backgroundcolor": "#E5ECF6",
            "gridcolor": "white",
            "gridwidth": 2,
            "linecolor": "white",
            "showbackground": true,
            "ticks": "",
            "zerolinecolor": "white"
           },
           "yaxis": {
            "backgroundcolor": "#E5ECF6",
            "gridcolor": "white",
            "gridwidth": 2,
            "linecolor": "white",
            "showbackground": true,
            "ticks": "",
            "zerolinecolor": "white"
           },
           "zaxis": {
            "backgroundcolor": "#E5ECF6",
            "gridcolor": "white",
            "gridwidth": 2,
            "linecolor": "white",
            "showbackground": true,
            "ticks": "",
            "zerolinecolor": "white"
           }
          },
          "shapedefaults": {
           "line": {
            "color": "#2a3f5f"
           }
          },
          "ternary": {
           "aaxis": {
            "gridcolor": "white",
            "linecolor": "white",
            "ticks": ""
           },
           "baxis": {
            "gridcolor": "white",
            "linecolor": "white",
            "ticks": ""
           },
           "bgcolor": "#E5ECF6",
           "caxis": {
            "gridcolor": "white",
            "linecolor": "white",
            "ticks": ""
           }
          },
          "title": {
           "x": 0.05
          },
          "xaxis": {
           "automargin": true,
           "gridcolor": "white",
           "linecolor": "white",
           "ticks": "",
           "title": {
            "standoff": 15
           },
           "zerolinecolor": "white",
           "zerolinewidth": 2
          },
          "yaxis": {
           "automargin": true,
           "gridcolor": "white",
           "linecolor": "white",
           "ticks": "",
           "title": {
            "standoff": 15
           },
           "zerolinecolor": "white",
           "zerolinewidth": 2
          }
         }
        },
        "title": {
         "text": "Predictions vs Actual Values"
        },
        "xaxis": {
         "anchor": "y",
         "domain": [
          0,
          1
         ],
         "title": {
          "text": "Actual Values"
         }
        },
        "yaxis": {
         "anchor": "x",
         "domain": [
          0,
          1
         ],
         "title": {
          "text": "Predictions"
         }
        }
       }
      }
     },
     "metadata": {},
     "output_type": "display_data"
    }
   ],
   "source": [
    "# Interactive visualization of predictions vs actual values\n",
    "fig = px.scatter(df, x='TotalRenewableEnergy', y='PredictedTotalRenewableEnergy', \n",
    "                 title='Predictions vs Actual Values',\n",
    "                 labels={'TotalRenewableEnergy': 'Actual Values', \n",
    "                         'PredictedTotalRenewableEnergy': 'Predictions'},\n",
    "                 trendline='ols')\n",
    "fig.show()"
   ]
  },
  {
   "cell_type": "code",
   "execution_count": 6,
   "metadata": {},
   "outputs": [
    {
     "data": {
      "application/vnd.plotly.v1+json": {
       "config": {
        "plotlyServerURL": "https://plot.ly"
       },
       "data": [
        {
         "hovertemplate": "Predicted Values=%{x}<br>Residuals=%{y}<extra></extra>",
         "legendgroup": "",
         "marker": {
          "color": "#636efa",
          "symbol": "circle"
         },
         "mode": "markers",
         "name": "",
         "orientation": "v",
         "showlegend": false,
         "type": "scatter",
         "x": {
          "bdata": "1ia2PyDp6b9heXa+5y58v6PkzL6NLoK/3uMzvu84Er/vFN0/gY8Nv0BooL9iBrK+649oP1ZC9z+6Og7AkqpwPtuaTL+m83A/N800P946bb9jQOg9YmlAPv4tcL6bc5w/OzWjvy5tNb8nFeo9iMTiv9n65z+HH2c/U+sIP8ZMIj9552S/+dmQPpQ3+T44O909LqdEv1djZL09JCU/3gOoPqpJCT8ced++Xr1HvnVIeb7rw3o/iVTWPm6AaD8Cr4m/UnDFPv+0EUArT4e/c5/Fv7/HbL/8yQ4+HYtvP5RCJ78o5tM+3CnLP+K80L7QdGu/8akdQDa90T6ER0s/XlcNvwgIdD9/xZw+UevMPzKk/z5iy7E/o5O0P7hug75EFTe/Tnm5v+0wIr8l3Cq9kkpmvkD4mz/Ab7i+HdSnP+IV3L/QKFM/2PmsP2ILKL+boSnAJxIgP6EQTL++YmU+wDTXPrx+o789tkg/AhMkPhRM7j95khjA5L2YvwirlT7ArQo/FQhmPvntCUCJ87M+P1ScP2bPEj/0Y+U8aVeQvseHjz+bO9Q9rd/LPFsCh77E6MC/D9qvvxGhxT5ogLo9XEYtQDAz7r2duj6+ZMUKwCKIDD8reEA+uo6LvkDmIj/njVI/iz8dP1uJkr6jYLI/M1pyv6tzZz9kIic+56huP0S+nz8kZYW9OZy/P3bgsD93iAg+dn6nPxgH5z+/pYu+LF+vPlOZVr9dV2w/7V+TPxqVC79bWq+/g6tivoa1ET8fzrk/KpOMPsd9Uz+cGL6/I+vov/c5uT6ndKu/jNjlv/Lnob9Ipgy/gc8lP78eBT2g8ZW/l1sgPRzpNL4MrU+/sXl6v3ZH1b9KGzI/tN0Bv6Lbiz4BFsW81vhnP2FH878KIJ+/TCa3vnkvTT+fKyG/nRZOPxDvHr/uG56/fI9fv/f8qL9grm8+XJ9UPyUcPL7+lSM/HFZTv0pEHj7OSsa/oguHPrYeqz5hc5Q+/niCPmJ1XT6n2Tq/imG9PzrHk7++zwU/sfZ7vvKuhb2MKk4/R/iIvmHxGT8Fb9U9ucAcv6BBxj8MOoe8B+3aP3m8Oj99Bqo/m3KUv6uTZr/zsdU+eWLBvqy7gr8Riys/RLg0v1rFmb9hqxu/CMDivhbJKr8Ffcw+fSx1v7mSdD8IWqG/+Pkmv90Krb+dkr095T/vveoGET82O2G/7hrxv0CYtT9IL7S+6CgqPtxujD9+7NM/bee1v+QNVr/wpDO+SGcgv50//T5u2+i/3wGTP8JQQD4SZ7C/",
          "dtype": "f4"
         },
         "xaxis": "x",
         "y": {
          "bdata": "AGB21uJbOz8AAM5M+vHqPgABnlBnAko/AA65DHHjUz8AIs5ewExDvwDIMimsYkC/yHfjuFQcoj8AgP8z0gQHvwCAdIsTQAu/8EuGDFAzsT8AXRXedByKvwAwoe/6XBO/ACAx0Vy6Hr8ARHxe2aJRPwAADohXZh2/IHp3Op03jD+gtvUmpZiUPwCATfe5U/w+wNo0Qdo8gD+AM2+2mUF7vwBN9fbDojA/ADSSatgqKz8AEEyv5nMBvwAAJeguIvW+iB+x+Wrfwb+go2nGKGuQPwCInoIhiSW/AGzlleM5UD8AAJ8nczE+vwDABSJ9/jg/gDoUN//IkD8AxIWnXSlTvwBwjE8tbk8/ADLFsv9IRb8Ainh0WbNQvwDI0UVSpRe/ANgXuOHhOT8AVU98Pr44v4ARFoR02Xk/AFwc9SWFO78AOEKx3Y85vwB8NN8iUDG/AMg8qIBKJz8A5D++xOIgPwBgn7QX2Bg/6FijwnRBpz8AYOifrtknvwCASahM+CG/AACYodRcDT8AgNoHESESvwAQvtV/rjc/AIhIuVfXRD8AgE+KMFgMPwB8gILkiT2/AGabY1c3YD9AbQCvKz2LPwCWq1MoE0Q/AHCigdLzPD8AUNsWKsQVvwAAFxI5+xG/AEAQi+cLJz8AiB03n5EjPwDARMSjWi6/ALDPF3UsQD8A2LYyjvVCvwCYkbX0/TI/EMH9inoosD8A4COcNj8QvwCQu3Acy0C/oIOQRx07qz8AoI61jNAlvwDMR9fFRkK/AHBCrFVUQz8AaE3HPH86v0Dw/Zj+TUU/AFQ2S6k1L78A6AXWOQ1IPwA4YrNa4TC/ANCtbWkOOr8wQgidSBS4PwDgWy6QpRA/AFA4GnflRb8Azma2puVlPwDwsYKE/EK/AFStocbhYz8ANkPiuP1cP4BJZcmM23o/AN72Pj2lSz8A6NptWkNBPwBg/tHM+0e/ABjJx6sLP78AAK/0/NwivwCgnixFBDU/oGJI4Gwyqb8A8LRBzpYavwC+QoqIWFg/AA8maDcejj8AoN1DtXhBvwASZuGgK1O/AHC4/WJ+Or8AQP5wPMwzvwC5FaJfdRG/ALA7dOmIGj8A4M8bd2w5v4ABg1drr2Q/ANHhtjxZL78AOJzalh8yvwBgI9KFxSu/ACBe94cKIb8AATA7baB3P4BLl8phtEe/APhQE40SUT+A746GYvhVPwDJuz0pBU0/iLjZUMH+zz8A6C0gN85BPwBIt7XgTyY/ALyjdb0iNz8ANJAyP+RGPwBwYGgMCDm/AMyUBJkVTD8AuESXaVw3PwAgmeWDXz8/AOioniS5W78AwDQpHRsgPyDvxI1uDH4/ABDD2adIPj8AjUufQrG3PwCCVpLfkiS/AEw1gZtwUz8AcJCVqMA2vwDEN3pudi8/ABitN8OdQr8AgNQs3HgaPwAIl4cOvCU/AERvXXFdTz8ANO0U1kxQvwBQj5RRBDo/AFAaGbCTNb8ASNV5/KE2vwAgnp9WNi+/AFQiNsXcOj8AKL3oW3lev9Bqyp7OfrG/AEiNfbkWIL8AiCWtozE0PwAANSFqDBE/AAADwqyw9z4AnIp4H6VKPwDgTXfzkiC/AFDNCMiGXj8AILowh3I/P/ARNjfdvLU/AAsCuFJloD8AupAtXnc4PwB0BeaXslC/5NZESnW9pz8AYIGa3MUhvwAOsQ57/1O/AKWCOg+GYD8AQECkXcgaPwAVGJ8CTGW/AKAlRz7CND8AmEGAwnZCv0BDfFKfJkG/oB+vmQYckT8AcIar9pcyvwDAr0akqjK/iGbXUspvrz8AmJbHNrs5PwBsj0ul0Uy/AFDs00/HLj8AVRutPKuJPwAIYRGAOEm/AOY0hIPuUD8AUpy863l4v8D7SSJDTH+/AICFDo/nEj8A4uA2APxRvwDYAsnTOUC/AAB7Ff4uFb8AftgsCAA9P0DOLL8mjZY/AKLJWquVWT8AKO5k0ro5vwCl16hMwXw/AFCYzM3ZRr8Aq3JmJ/dCvwDkW/InTl8/AIjIkjMWQT8AgO8jKDlFPwAAakXjLjK/4PNDOGBUlz8AIFYnZOTpvgBoCuGHvzC/ANDktURbHb8AYAsfTbwaPwAyfvFX3CU/ANQPFaH1W78AAEFyQVtSv+BRMcf2WUK/IIPs4Il8tT8AJJucMUpPvwBclZIv11I/AKAtziw9Ib8AYDIY578pP5g97F4lM6o/AIhZGSZ2PL8ARFU0TylWPwDQJZhCP2U/ANBMN1H5K78AgGnxoBpGPwCAEdSFXxi/AHf4ok3rXL8A+M+GSRY0vwD09nchUE4/ANhRy+FRWL8AgCd/6rEXvwDYFgtytEq/AAD/Vo+k8j4AIAL1SogyP6AQMQ9NVX8/AJ25m2ihMz8AumxFE1dTvwBcFUux0ks/ACDPgbWLP78AANdKdRU5vwD3dbk90ne/aIeH8S3FlD8AFGnBnyNdv8CZR8QvwLE/AJiJFrHCW78AwuifDqlfv1AZT/pq84E/AADSyI5BAj+ABqJ0/eV/PwBouSw/1EA/QM0PBRTZkr+AqeaKbXRdPwB4WpijnUe/",
          "dtype": "f8"
         },
         "yaxis": "y"
        }
       ],
       "layout": {
        "legend": {
         "tracegroupgap": 0
        },
        "shapes": [
         {
          "line": {
           "color": "red",
           "dash": "dash"
          },
          "type": "line",
          "x0": 0,
          "x1": 1,
          "xref": "x domain",
          "y0": 0,
          "y1": 0,
          "yref": "y"
         }
        ],
        "template": {
         "data": {
          "bar": [
           {
            "error_x": {
             "color": "#2a3f5f"
            },
            "error_y": {
             "color": "#2a3f5f"
            },
            "marker": {
             "line": {
              "color": "#E5ECF6",
              "width": 0.5
             },
             "pattern": {
              "fillmode": "overlay",
              "size": 10,
              "solidity": 0.2
             }
            },
            "type": "bar"
           }
          ],
          "barpolar": [
           {
            "marker": {
             "line": {
              "color": "#E5ECF6",
              "width": 0.5
             },
             "pattern": {
              "fillmode": "overlay",
              "size": 10,
              "solidity": 0.2
             }
            },
            "type": "barpolar"
           }
          ],
          "carpet": [
           {
            "aaxis": {
             "endlinecolor": "#2a3f5f",
             "gridcolor": "white",
             "linecolor": "white",
             "minorgridcolor": "white",
             "startlinecolor": "#2a3f5f"
            },
            "baxis": {
             "endlinecolor": "#2a3f5f",
             "gridcolor": "white",
             "linecolor": "white",
             "minorgridcolor": "white",
             "startlinecolor": "#2a3f5f"
            },
            "type": "carpet"
           }
          ],
          "choropleth": [
           {
            "colorbar": {
             "outlinewidth": 0,
             "ticks": ""
            },
            "type": "choropleth"
           }
          ],
          "contour": [
           {
            "colorbar": {
             "outlinewidth": 0,
             "ticks": ""
            },
            "colorscale": [
             [
              0,
              "#0d0887"
             ],
             [
              0.1111111111111111,
              "#46039f"
             ],
             [
              0.2222222222222222,
              "#7201a8"
             ],
             [
              0.3333333333333333,
              "#9c179e"
             ],
             [
              0.4444444444444444,
              "#bd3786"
             ],
             [
              0.5555555555555556,
              "#d8576b"
             ],
             [
              0.6666666666666666,
              "#ed7953"
             ],
             [
              0.7777777777777778,
              "#fb9f3a"
             ],
             [
              0.8888888888888888,
              "#fdca26"
             ],
             [
              1,
              "#f0f921"
             ]
            ],
            "type": "contour"
           }
          ],
          "contourcarpet": [
           {
            "colorbar": {
             "outlinewidth": 0,
             "ticks": ""
            },
            "type": "contourcarpet"
           }
          ],
          "heatmap": [
           {
            "colorbar": {
             "outlinewidth": 0,
             "ticks": ""
            },
            "colorscale": [
             [
              0,
              "#0d0887"
             ],
             [
              0.1111111111111111,
              "#46039f"
             ],
             [
              0.2222222222222222,
              "#7201a8"
             ],
             [
              0.3333333333333333,
              "#9c179e"
             ],
             [
              0.4444444444444444,
              "#bd3786"
             ],
             [
              0.5555555555555556,
              "#d8576b"
             ],
             [
              0.6666666666666666,
              "#ed7953"
             ],
             [
              0.7777777777777778,
              "#fb9f3a"
             ],
             [
              0.8888888888888888,
              "#fdca26"
             ],
             [
              1,
              "#f0f921"
             ]
            ],
            "type": "heatmap"
           }
          ],
          "histogram": [
           {
            "marker": {
             "pattern": {
              "fillmode": "overlay",
              "size": 10,
              "solidity": 0.2
             }
            },
            "type": "histogram"
           }
          ],
          "histogram2d": [
           {
            "colorbar": {
             "outlinewidth": 0,
             "ticks": ""
            },
            "colorscale": [
             [
              0,
              "#0d0887"
             ],
             [
              0.1111111111111111,
              "#46039f"
             ],
             [
              0.2222222222222222,
              "#7201a8"
             ],
             [
              0.3333333333333333,
              "#9c179e"
             ],
             [
              0.4444444444444444,
              "#bd3786"
             ],
             [
              0.5555555555555556,
              "#d8576b"
             ],
             [
              0.6666666666666666,
              "#ed7953"
             ],
             [
              0.7777777777777778,
              "#fb9f3a"
             ],
             [
              0.8888888888888888,
              "#fdca26"
             ],
             [
              1,
              "#f0f921"
             ]
            ],
            "type": "histogram2d"
           }
          ],
          "histogram2dcontour": [
           {
            "colorbar": {
             "outlinewidth": 0,
             "ticks": ""
            },
            "colorscale": [
             [
              0,
              "#0d0887"
             ],
             [
              0.1111111111111111,
              "#46039f"
             ],
             [
              0.2222222222222222,
              "#7201a8"
             ],
             [
              0.3333333333333333,
              "#9c179e"
             ],
             [
              0.4444444444444444,
              "#bd3786"
             ],
             [
              0.5555555555555556,
              "#d8576b"
             ],
             [
              0.6666666666666666,
              "#ed7953"
             ],
             [
              0.7777777777777778,
              "#fb9f3a"
             ],
             [
              0.8888888888888888,
              "#fdca26"
             ],
             [
              1,
              "#f0f921"
             ]
            ],
            "type": "histogram2dcontour"
           }
          ],
          "mesh3d": [
           {
            "colorbar": {
             "outlinewidth": 0,
             "ticks": ""
            },
            "type": "mesh3d"
           }
          ],
          "parcoords": [
           {
            "line": {
             "colorbar": {
              "outlinewidth": 0,
              "ticks": ""
             }
            },
            "type": "parcoords"
           }
          ],
          "pie": [
           {
            "automargin": true,
            "type": "pie"
           }
          ],
          "scatter": [
           {
            "fillpattern": {
             "fillmode": "overlay",
             "size": 10,
             "solidity": 0.2
            },
            "type": "scatter"
           }
          ],
          "scatter3d": [
           {
            "line": {
             "colorbar": {
              "outlinewidth": 0,
              "ticks": ""
             }
            },
            "marker": {
             "colorbar": {
              "outlinewidth": 0,
              "ticks": ""
             }
            },
            "type": "scatter3d"
           }
          ],
          "scattercarpet": [
           {
            "marker": {
             "colorbar": {
              "outlinewidth": 0,
              "ticks": ""
             }
            },
            "type": "scattercarpet"
           }
          ],
          "scattergeo": [
           {
            "marker": {
             "colorbar": {
              "outlinewidth": 0,
              "ticks": ""
             }
            },
            "type": "scattergeo"
           }
          ],
          "scattergl": [
           {
            "marker": {
             "colorbar": {
              "outlinewidth": 0,
              "ticks": ""
             }
            },
            "type": "scattergl"
           }
          ],
          "scattermap": [
           {
            "marker": {
             "colorbar": {
              "outlinewidth": 0,
              "ticks": ""
             }
            },
            "type": "scattermap"
           }
          ],
          "scattermapbox": [
           {
            "marker": {
             "colorbar": {
              "outlinewidth": 0,
              "ticks": ""
             }
            },
            "type": "scattermapbox"
           }
          ],
          "scatterpolar": [
           {
            "marker": {
             "colorbar": {
              "outlinewidth": 0,
              "ticks": ""
             }
            },
            "type": "scatterpolar"
           }
          ],
          "scatterpolargl": [
           {
            "marker": {
             "colorbar": {
              "outlinewidth": 0,
              "ticks": ""
             }
            },
            "type": "scatterpolargl"
           }
          ],
          "scatterternary": [
           {
            "marker": {
             "colorbar": {
              "outlinewidth": 0,
              "ticks": ""
             }
            },
            "type": "scatterternary"
           }
          ],
          "surface": [
           {
            "colorbar": {
             "outlinewidth": 0,
             "ticks": ""
            },
            "colorscale": [
             [
              0,
              "#0d0887"
             ],
             [
              0.1111111111111111,
              "#46039f"
             ],
             [
              0.2222222222222222,
              "#7201a8"
             ],
             [
              0.3333333333333333,
              "#9c179e"
             ],
             [
              0.4444444444444444,
              "#bd3786"
             ],
             [
              0.5555555555555556,
              "#d8576b"
             ],
             [
              0.6666666666666666,
              "#ed7953"
             ],
             [
              0.7777777777777778,
              "#fb9f3a"
             ],
             [
              0.8888888888888888,
              "#fdca26"
             ],
             [
              1,
              "#f0f921"
             ]
            ],
            "type": "surface"
           }
          ],
          "table": [
           {
            "cells": {
             "fill": {
              "color": "#EBF0F8"
             },
             "line": {
              "color": "white"
             }
            },
            "header": {
             "fill": {
              "color": "#C8D4E3"
             },
             "line": {
              "color": "white"
             }
            },
            "type": "table"
           }
          ]
         },
         "layout": {
          "annotationdefaults": {
           "arrowcolor": "#2a3f5f",
           "arrowhead": 0,
           "arrowwidth": 1
          },
          "autotypenumbers": "strict",
          "coloraxis": {
           "colorbar": {
            "outlinewidth": 0,
            "ticks": ""
           }
          },
          "colorscale": {
           "diverging": [
            [
             0,
             "#8e0152"
            ],
            [
             0.1,
             "#c51b7d"
            ],
            [
             0.2,
             "#de77ae"
            ],
            [
             0.3,
             "#f1b6da"
            ],
            [
             0.4,
             "#fde0ef"
            ],
            [
             0.5,
             "#f7f7f7"
            ],
            [
             0.6,
             "#e6f5d0"
            ],
            [
             0.7,
             "#b8e186"
            ],
            [
             0.8,
             "#7fbc41"
            ],
            [
             0.9,
             "#4d9221"
            ],
            [
             1,
             "#276419"
            ]
           ],
           "sequential": [
            [
             0,
             "#0d0887"
            ],
            [
             0.1111111111111111,
             "#46039f"
            ],
            [
             0.2222222222222222,
             "#7201a8"
            ],
            [
             0.3333333333333333,
             "#9c179e"
            ],
            [
             0.4444444444444444,
             "#bd3786"
            ],
            [
             0.5555555555555556,
             "#d8576b"
            ],
            [
             0.6666666666666666,
             "#ed7953"
            ],
            [
             0.7777777777777778,
             "#fb9f3a"
            ],
            [
             0.8888888888888888,
             "#fdca26"
            ],
            [
             1,
             "#f0f921"
            ]
           ],
           "sequentialminus": [
            [
             0,
             "#0d0887"
            ],
            [
             0.1111111111111111,
             "#46039f"
            ],
            [
             0.2222222222222222,
             "#7201a8"
            ],
            [
             0.3333333333333333,
             "#9c179e"
            ],
            [
             0.4444444444444444,
             "#bd3786"
            ],
            [
             0.5555555555555556,
             "#d8576b"
            ],
            [
             0.6666666666666666,
             "#ed7953"
            ],
            [
             0.7777777777777778,
             "#fb9f3a"
            ],
            [
             0.8888888888888888,
             "#fdca26"
            ],
            [
             1,
             "#f0f921"
            ]
           ]
          },
          "colorway": [
           "#636efa",
           "#EF553B",
           "#00cc96",
           "#ab63fa",
           "#FFA15A",
           "#19d3f3",
           "#FF6692",
           "#B6E880",
           "#FF97FF",
           "#FECB52"
          ],
          "font": {
           "color": "#2a3f5f"
          },
          "geo": {
           "bgcolor": "white",
           "lakecolor": "white",
           "landcolor": "#E5ECF6",
           "showlakes": true,
           "showland": true,
           "subunitcolor": "white"
          },
          "hoverlabel": {
           "align": "left"
          },
          "hovermode": "closest",
          "mapbox": {
           "style": "light"
          },
          "paper_bgcolor": "white",
          "plot_bgcolor": "#E5ECF6",
          "polar": {
           "angularaxis": {
            "gridcolor": "white",
            "linecolor": "white",
            "ticks": ""
           },
           "bgcolor": "#E5ECF6",
           "radialaxis": {
            "gridcolor": "white",
            "linecolor": "white",
            "ticks": ""
           }
          },
          "scene": {
           "xaxis": {
            "backgroundcolor": "#E5ECF6",
            "gridcolor": "white",
            "gridwidth": 2,
            "linecolor": "white",
            "showbackground": true,
            "ticks": "",
            "zerolinecolor": "white"
           },
           "yaxis": {
            "backgroundcolor": "#E5ECF6",
            "gridcolor": "white",
            "gridwidth": 2,
            "linecolor": "white",
            "showbackground": true,
            "ticks": "",
            "zerolinecolor": "white"
           },
           "zaxis": {
            "backgroundcolor": "#E5ECF6",
            "gridcolor": "white",
            "gridwidth": 2,
            "linecolor": "white",
            "showbackground": true,
            "ticks": "",
            "zerolinecolor": "white"
           }
          },
          "shapedefaults": {
           "line": {
            "color": "#2a3f5f"
           }
          },
          "ternary": {
           "aaxis": {
            "gridcolor": "white",
            "linecolor": "white",
            "ticks": ""
           },
           "baxis": {
            "gridcolor": "white",
            "linecolor": "white",
            "ticks": ""
           },
           "bgcolor": "#E5ECF6",
           "caxis": {
            "gridcolor": "white",
            "linecolor": "white",
            "ticks": ""
           }
          },
          "title": {
           "x": 0.05
          },
          "xaxis": {
           "automargin": true,
           "gridcolor": "white",
           "linecolor": "white",
           "ticks": "",
           "title": {
            "standoff": 15
           },
           "zerolinecolor": "white",
           "zerolinewidth": 2
          },
          "yaxis": {
           "automargin": true,
           "gridcolor": "white",
           "linecolor": "white",
           "ticks": "",
           "title": {
            "standoff": 15
           },
           "zerolinecolor": "white",
           "zerolinewidth": 2
          }
         }
        },
        "title": {
         "text": "Residual Analysis"
        },
        "xaxis": {
         "anchor": "y",
         "domain": [
          0,
          1
         ],
         "title": {
          "text": "Predicted Values"
         }
        },
        "yaxis": {
         "anchor": "x",
         "domain": [
          0,
          1
         ],
         "title": {
          "text": "Residuals"
         }
        }
       }
      }
     },
     "metadata": {},
     "output_type": "display_data"
    }
   ],
   "source": [
    "# Residual analysis visualization\n",
    "residuals = df['TotalRenewableEnergy'] - df['PredictedTotalRenewableEnergy']\n",
    "fig = px.scatter(x=df['PredictedTotalRenewableEnergy'], y=residuals, \n",
    "                 title='Residual Analysis',\n",
    "                 labels={'x': 'Predicted Values', 'y': 'Residuals'})\n",
    "fig.add_hline(y=0, line_dash='dash', line_color='red')\n",
    "fig.show()"
   ]
  },
  {
   "cell_type": "code",
   "execution_count": 7,
   "metadata": {},
   "outputs": [
    {
     "data": {
      "application/vnd.plotly.v1+json": {
       "config": {
        "plotlyServerURL": "https://plot.ly"
       },
       "data": [
        {
         "bingroup": "x",
         "hovertemplate": "variable=0<br>Residuals=%{x}<br>count=%{y}<extra></extra>",
         "legendgroup": "0",
         "marker": {
          "color": "#636efa",
          "pattern": {
           "shape": ""
          }
         },
         "name": "0",
         "nbinsx": 30,
         "orientation": "v",
         "showlegend": true,
         "type": "histogram",
         "x": {
          "bdata": "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",
          "dtype": "f8"
         },
         "xaxis": "x",
         "yaxis": "y"
        }
       ],
       "layout": {
        "barmode": "relative",
        "legend": {
         "title": {
          "text": "variable"
         },
         "tracegroupgap": 0
        },
        "template": {
         "data": {
          "bar": [
           {
            "error_x": {
             "color": "#2a3f5f"
            },
            "error_y": {
             "color": "#2a3f5f"
            },
            "marker": {
             "line": {
              "color": "#E5ECF6",
              "width": 0.5
             },
             "pattern": {
              "fillmode": "overlay",
              "size": 10,
              "solidity": 0.2
             }
            },
            "type": "bar"
           }
          ],
          "barpolar": [
           {
            "marker": {
             "line": {
              "color": "#E5ECF6",
              "width": 0.5
             },
             "pattern": {
              "fillmode": "overlay",
              "size": 10,
              "solidity": 0.2
             }
            },
            "type": "barpolar"
           }
          ],
          "carpet": [
           {
            "aaxis": {
             "endlinecolor": "#2a3f5f",
             "gridcolor": "white",
             "linecolor": "white",
             "minorgridcolor": "white",
             "startlinecolor": "#2a3f5f"
            },
            "baxis": {
             "endlinecolor": "#2a3f5f",
             "gridcolor": "white",
             "linecolor": "white",
             "minorgridcolor": "white",
             "startlinecolor": "#2a3f5f"
            },
            "type": "carpet"
           }
          ],
          "choropleth": [
           {
            "colorbar": {
             "outlinewidth": 0,
             "ticks": ""
            },
            "type": "choropleth"
           }
          ],
          "contour": [
           {
            "colorbar": {
             "outlinewidth": 0,
             "ticks": ""
            },
            "colorscale": [
             [
              0,
              "#0d0887"
             ],
             [
              0.1111111111111111,
              "#46039f"
             ],
             [
              0.2222222222222222,
              "#7201a8"
             ],
             [
              0.3333333333333333,
              "#9c179e"
             ],
             [
              0.4444444444444444,
              "#bd3786"
             ],
             [
              0.5555555555555556,
              "#d8576b"
             ],
             [
              0.6666666666666666,
              "#ed7953"
             ],
             [
              0.7777777777777778,
              "#fb9f3a"
             ],
             [
              0.8888888888888888,
              "#fdca26"
             ],
             [
              1,
              "#f0f921"
             ]
            ],
            "type": "contour"
           }
          ],
          "contourcarpet": [
           {
            "colorbar": {
             "outlinewidth": 0,
             "ticks": ""
            },
            "type": "contourcarpet"
           }
          ],
          "heatmap": [
           {
            "colorbar": {
             "outlinewidth": 0,
             "ticks": ""
            },
            "colorscale": [
             [
              0,
              "#0d0887"
             ],
             [
              0.1111111111111111,
              "#46039f"
             ],
             [
              0.2222222222222222,
              "#7201a8"
             ],
             [
              0.3333333333333333,
              "#9c179e"
             ],
             [
              0.4444444444444444,
              "#bd3786"
             ],
             [
              0.5555555555555556,
              "#d8576b"
             ],
             [
              0.6666666666666666,
              "#ed7953"
             ],
             [
              0.7777777777777778,
              "#fb9f3a"
             ],
             [
              0.8888888888888888,
              "#fdca26"
             ],
             [
              1,
              "#f0f921"
             ]
            ],
            "type": "heatmap"
           }
          ],
          "histogram": [
           {
            "marker": {
             "pattern": {
              "fillmode": "overlay",
              "size": 10,
              "solidity": 0.2
             }
            },
            "type": "histogram"
           }
          ],
          "histogram2d": [
           {
            "colorbar": {
             "outlinewidth": 0,
             "ticks": ""
            },
            "colorscale": [
             [
              0,
              "#0d0887"
             ],
             [
              0.1111111111111111,
              "#46039f"
             ],
             [
              0.2222222222222222,
              "#7201a8"
             ],
             [
              0.3333333333333333,
              "#9c179e"
             ],
             [
              0.4444444444444444,
              "#bd3786"
             ],
             [
              0.5555555555555556,
              "#d8576b"
             ],
             [
              0.6666666666666666,
              "#ed7953"
             ],
             [
              0.7777777777777778,
              "#fb9f3a"
             ],
             [
              0.8888888888888888,
              "#fdca26"
             ],
             [
              1,
              "#f0f921"
             ]
            ],
            "type": "histogram2d"
           }
          ],
          "histogram2dcontour": [
           {
            "colorbar": {
             "outlinewidth": 0,
             "ticks": ""
            },
            "colorscale": [
             [
              0,
              "#0d0887"
             ],
             [
              0.1111111111111111,
              "#46039f"
             ],
             [
              0.2222222222222222,
              "#7201a8"
             ],
             [
              0.3333333333333333,
              "#9c179e"
             ],
             [
              0.4444444444444444,
              "#bd3786"
             ],
             [
              0.5555555555555556,
              "#d8576b"
             ],
             [
              0.6666666666666666,
              "#ed7953"
             ],
             [
              0.7777777777777778,
              "#fb9f3a"
             ],
             [
              0.8888888888888888,
              "#fdca26"
             ],
             [
              1,
              "#f0f921"
             ]
            ],
            "type": "histogram2dcontour"
           }
          ],
          "mesh3d": [
           {
            "colorbar": {
             "outlinewidth": 0,
             "ticks": ""
            },
            "type": "mesh3d"
           }
          ],
          "parcoords": [
           {
            "line": {
             "colorbar": {
              "outlinewidth": 0,
              "ticks": ""
             }
            },
            "type": "parcoords"
           }
          ],
          "pie": [
           {
            "automargin": true,
            "type": "pie"
           }
          ],
          "scatter": [
           {
            "fillpattern": {
             "fillmode": "overlay",
             "size": 10,
             "solidity": 0.2
            },
            "type": "scatter"
           }
          ],
          "scatter3d": [
           {
            "line": {
             "colorbar": {
              "outlinewidth": 0,
              "ticks": ""
             }
            },
            "marker": {
             "colorbar": {
              "outlinewidth": 0,
              "ticks": ""
             }
            },
            "type": "scatter3d"
           }
          ],
          "scattercarpet": [
           {
            "marker": {
             "colorbar": {
              "outlinewidth": 0,
              "ticks": ""
             }
            },
            "type": "scattercarpet"
           }
          ],
          "scattergeo": [
           {
            "marker": {
             "colorbar": {
              "outlinewidth": 0,
              "ticks": ""
             }
            },
            "type": "scattergeo"
           }
          ],
          "scattergl": [
           {
            "marker": {
             "colorbar": {
              "outlinewidth": 0,
              "ticks": ""
             }
            },
            "type": "scattergl"
           }
          ],
          "scattermap": [
           {
            "marker": {
             "colorbar": {
              "outlinewidth": 0,
              "ticks": ""
             }
            },
            "type": "scattermap"
           }
          ],
          "scattermapbox": [
           {
            "marker": {
             "colorbar": {
              "outlinewidth": 0,
              "ticks": ""
             }
            },
            "type": "scattermapbox"
           }
          ],
          "scatterpolar": [
           {
            "marker": {
             "colorbar": {
              "outlinewidth": 0,
              "ticks": ""
             }
            },
            "type": "scatterpolar"
           }
          ],
          "scatterpolargl": [
           {
            "marker": {
             "colorbar": {
              "outlinewidth": 0,
              "ticks": ""
             }
            },
            "type": "scatterpolargl"
           }
          ],
          "scatterternary": [
           {
            "marker": {
             "colorbar": {
              "outlinewidth": 0,
              "ticks": ""
             }
            },
            "type": "scatterternary"
           }
          ],
          "surface": [
           {
            "colorbar": {
             "outlinewidth": 0,
             "ticks": ""
            },
            "colorscale": [
             [
              0,
              "#0d0887"
             ],
             [
              0.1111111111111111,
              "#46039f"
             ],
             [
              0.2222222222222222,
              "#7201a8"
             ],
             [
              0.3333333333333333,
              "#9c179e"
             ],
             [
              0.4444444444444444,
              "#bd3786"
             ],
             [
              0.5555555555555556,
              "#d8576b"
             ],
             [
              0.6666666666666666,
              "#ed7953"
             ],
             [
              0.7777777777777778,
              "#fb9f3a"
             ],
             [
              0.8888888888888888,
              "#fdca26"
             ],
             [
              1,
              "#f0f921"
             ]
            ],
            "type": "surface"
           }
          ],
          "table": [
           {
            "cells": {
             "fill": {
              "color": "#EBF0F8"
             },
             "line": {
              "color": "white"
             }
            },
            "header": {
             "fill": {
              "color": "#C8D4E3"
             },
             "line": {
              "color": "white"
             }
            },
            "type": "table"
           }
          ]
         },
         "layout": {
          "annotationdefaults": {
           "arrowcolor": "#2a3f5f",
           "arrowhead": 0,
           "arrowwidth": 1
          },
          "autotypenumbers": "strict",
          "coloraxis": {
           "colorbar": {
            "outlinewidth": 0,
            "ticks": ""
           }
          },
          "colorscale": {
           "diverging": [
            [
             0,
             "#8e0152"
            ],
            [
             0.1,
             "#c51b7d"
            ],
            [
             0.2,
             "#de77ae"
            ],
            [
             0.3,
             "#f1b6da"
            ],
            [
             0.4,
             "#fde0ef"
            ],
            [
             0.5,
             "#f7f7f7"
            ],
            [
             0.6,
             "#e6f5d0"
            ],
            [
             0.7,
             "#b8e186"
            ],
            [
             0.8,
             "#7fbc41"
            ],
            [
             0.9,
             "#4d9221"
            ],
            [
             1,
             "#276419"
            ]
           ],
           "sequential": [
            [
             0,
             "#0d0887"
            ],
            [
             0.1111111111111111,
             "#46039f"
            ],
            [
             0.2222222222222222,
             "#7201a8"
            ],
            [
             0.3333333333333333,
             "#9c179e"
            ],
            [
             0.4444444444444444,
             "#bd3786"
            ],
            [
             0.5555555555555556,
             "#d8576b"
            ],
            [
             0.6666666666666666,
             "#ed7953"
            ],
            [
             0.7777777777777778,
             "#fb9f3a"
            ],
            [
             0.8888888888888888,
             "#fdca26"
            ],
            [
             1,
             "#f0f921"
            ]
           ],
           "sequentialminus": [
            [
             0,
             "#0d0887"
            ],
            [
             0.1111111111111111,
             "#46039f"
            ],
            [
             0.2222222222222222,
             "#7201a8"
            ],
            [
             0.3333333333333333,
             "#9c179e"
            ],
            [
             0.4444444444444444,
             "#bd3786"
            ],
            [
             0.5555555555555556,
             "#d8576b"
            ],
            [
             0.6666666666666666,
             "#ed7953"
            ],
            [
             0.7777777777777778,
             "#fb9f3a"
            ],
            [
             0.8888888888888888,
             "#fdca26"
            ],
            [
             1,
             "#f0f921"
            ]
           ]
          },
          "colorway": [
           "#636efa",
           "#EF553B",
           "#00cc96",
           "#ab63fa",
           "#FFA15A",
           "#19d3f3",
           "#FF6692",
           "#B6E880",
           "#FF97FF",
           "#FECB52"
          ],
          "font": {
           "color": "#2a3f5f"
          },
          "geo": {
           "bgcolor": "white",
           "lakecolor": "white",
           "landcolor": "#E5ECF6",
           "showlakes": true,
           "showland": true,
           "subunitcolor": "white"
          },
          "hoverlabel": {
           "align": "left"
          },
          "hovermode": "closest",
          "mapbox": {
           "style": "light"
          },
          "paper_bgcolor": "white",
          "plot_bgcolor": "#E5ECF6",
          "polar": {
           "angularaxis": {
            "gridcolor": "white",
            "linecolor": "white",
            "ticks": ""
           },
           "bgcolor": "#E5ECF6",
           "radialaxis": {
            "gridcolor": "white",
            "linecolor": "white",
            "ticks": ""
           }
          },
          "scene": {
           "xaxis": {
            "backgroundcolor": "#E5ECF6",
            "gridcolor": "white",
            "gridwidth": 2,
            "linecolor": "white",
            "showbackground": true,
            "ticks": "",
            "zerolinecolor": "white"
           },
           "yaxis": {
            "backgroundcolor": "#E5ECF6",
            "gridcolor": "white",
            "gridwidth": 2,
            "linecolor": "white",
            "showbackground": true,
            "ticks": "",
            "zerolinecolor": "white"
           },
           "zaxis": {
            "backgroundcolor": "#E5ECF6",
            "gridcolor": "white",
            "gridwidth": 2,
            "linecolor": "white",
            "showbackground": true,
            "ticks": "",
            "zerolinecolor": "white"
           }
          },
          "shapedefaults": {
           "line": {
            "color": "#2a3f5f"
           }
          },
          "ternary": {
           "aaxis": {
            "gridcolor": "white",
            "linecolor": "white",
            "ticks": ""
           },
           "baxis": {
            "gridcolor": "white",
            "linecolor": "white",
            "ticks": ""
           },
           "bgcolor": "#E5ECF6",
           "caxis": {
            "gridcolor": "white",
            "linecolor": "white",
            "ticks": ""
           }
          },
          "title": {
           "x": 0.05
          },
          "xaxis": {
           "automargin": true,
           "gridcolor": "white",
           "linecolor": "white",
           "ticks": "",
           "title": {
            "standoff": 15
           },
           "zerolinecolor": "white",
           "zerolinewidth": 2
          },
          "yaxis": {
           "automargin": true,
           "gridcolor": "white",
           "linecolor": "white",
           "ticks": "",
           "title": {
            "standoff": 15
           },
           "zerolinecolor": "white",
           "zerolinewidth": 2
          }
         }
        },
        "title": {
         "text": "Residual Distribution"
        },
        "xaxis": {
         "anchor": "y",
         "domain": [
          0,
          1
         ],
         "title": {
          "text": "Residuals"
         }
        },
        "yaxis": {
         "anchor": "x",
         "domain": [
          0,
          1
         ],
         "title": {
          "text": "count"
         }
        }
       }
      }
     },
     "metadata": {},
     "output_type": "display_data"
    }
   ],
   "source": [
    "# Distribution of residuals\n",
    "fig = px.histogram(residuals, nbins=30, \n",
    "                   title='Residual Distribution',\n",
    "                   labels={'value': 'Residuals', 'count': 'Frequency'})\n",
    "fig.show()"
   ]
  },
  {
   "cell_type": "code",
   "execution_count": 8,
   "metadata": {},
   "outputs": [
    {
     "data": {
      "application/vnd.plotly.v1+json": {
       "config": {
        "plotlyServerURL": "https://plot.ly"
       },
       "data": [
        {
         "hovertemplate": "Importance=%{x}<br>Feature=%{y}<extra></extra>",
         "legendgroup": "",
         "marker": {
          "color": "#636efa",
          "pattern": {
           "shape": ""
          }
         },
         "name": "",
         "orientation": "h",
         "showlegend": false,
         "textposition": "auto",
         "type": "bar",
         "x": {
          "bdata": "wad/P681qjn250g5ZHk/OR1mKjl2WxY5SDr4OCwHtDhzz6E43ZR9OAAAAAAAAAAAAAAAAAAAAAAAAAAA",
          "dtype": "f4"
         },
         "xaxis": "x",
         "y": [
          "TotalRenewableEnergyPerCapita",
          "HydroEnergy",
          "OtherRenewableEnergy",
          "Year",
          "WindEnergy",
          "YearlyGrowthRate",
          "SolarEnergy_WindEnergy",
          "SolarEnergy",
          "HydroToOtherRatio",
          "SolarToWindRatio",
          "SolarEnergy.1",
          "WindEnergy.1",
          "SolarEnergy.2",
          "WindEnergy.2",
          "SolarEnergy_WindEnergy.1"
         ],
         "yaxis": "y"
        }
       ],
       "layout": {
        "barmode": "relative",
        "legend": {
         "tracegroupgap": 0
        },
        "template": {
         "data": {
          "bar": [
           {
            "error_x": {
             "color": "#2a3f5f"
            },
            "error_y": {
             "color": "#2a3f5f"
            },
            "marker": {
             "line": {
              "color": "#E5ECF6",
              "width": 0.5
             },
             "pattern": {
              "fillmode": "overlay",
              "size": 10,
              "solidity": 0.2
             }
            },
            "type": "bar"
           }
          ],
          "barpolar": [
           {
            "marker": {
             "line": {
              "color": "#E5ECF6",
              "width": 0.5
             },
             "pattern": {
              "fillmode": "overlay",
              "size": 10,
              "solidity": 0.2
             }
            },
            "type": "barpolar"
           }
          ],
          "carpet": [
           {
            "aaxis": {
             "endlinecolor": "#2a3f5f",
             "gridcolor": "white",
             "linecolor": "white",
             "minorgridcolor": "white",
             "startlinecolor": "#2a3f5f"
            },
            "baxis": {
             "endlinecolor": "#2a3f5f",
             "gridcolor": "white",
             "linecolor": "white",
             "minorgridcolor": "white",
             "startlinecolor": "#2a3f5f"
            },
            "type": "carpet"
           }
          ],
          "choropleth": [
           {
            "colorbar": {
             "outlinewidth": 0,
             "ticks": ""
            },
            "type": "choropleth"
           }
          ],
          "contour": [
           {
            "colorbar": {
             "outlinewidth": 0,
             "ticks": ""
            },
            "colorscale": [
             [
              0,
              "#0d0887"
             ],
             [
              0.1111111111111111,
              "#46039f"
             ],
             [
              0.2222222222222222,
              "#7201a8"
             ],
             [
              0.3333333333333333,
              "#9c179e"
             ],
             [
              0.4444444444444444,
              "#bd3786"
             ],
             [
              0.5555555555555556,
              "#d8576b"
             ],
             [
              0.6666666666666666,
              "#ed7953"
             ],
             [
              0.7777777777777778,
              "#fb9f3a"
             ],
             [
              0.8888888888888888,
              "#fdca26"
             ],
             [
              1,
              "#f0f921"
             ]
            ],
            "type": "contour"
           }
          ],
          "contourcarpet": [
           {
            "colorbar": {
             "outlinewidth": 0,
             "ticks": ""
            },
            "type": "contourcarpet"
           }
          ],
          "heatmap": [
           {
            "colorbar": {
             "outlinewidth": 0,
             "ticks": ""
            },
            "colorscale": [
             [
              0,
              "#0d0887"
             ],
             [
              0.1111111111111111,
              "#46039f"
             ],
             [
              0.2222222222222222,
              "#7201a8"
             ],
             [
              0.3333333333333333,
              "#9c179e"
             ],
             [
              0.4444444444444444,
              "#bd3786"
             ],
             [
              0.5555555555555556,
              "#d8576b"
             ],
             [
              0.6666666666666666,
              "#ed7953"
             ],
             [
              0.7777777777777778,
              "#fb9f3a"
             ],
             [
              0.8888888888888888,
              "#fdca26"
             ],
             [
              1,
              "#f0f921"
             ]
            ],
            "type": "heatmap"
           }
          ],
          "histogram": [
           {
            "marker": {
             "pattern": {
              "fillmode": "overlay",
              "size": 10,
              "solidity": 0.2
             }
            },
            "type": "histogram"
           }
          ],
          "histogram2d": [
           {
            "colorbar": {
             "outlinewidth": 0,
             "ticks": ""
            },
            "colorscale": [
             [
              0,
              "#0d0887"
             ],
             [
              0.1111111111111111,
              "#46039f"
             ],
             [
              0.2222222222222222,
              "#7201a8"
             ],
             [
              0.3333333333333333,
              "#9c179e"
             ],
             [
              0.4444444444444444,
              "#bd3786"
             ],
             [
              0.5555555555555556,
              "#d8576b"
             ],
             [
              0.6666666666666666,
              "#ed7953"
             ],
             [
              0.7777777777777778,
              "#fb9f3a"
             ],
             [
              0.8888888888888888,
              "#fdca26"
             ],
             [
              1,
              "#f0f921"
             ]
            ],
            "type": "histogram2d"
           }
          ],
          "histogram2dcontour": [
           {
            "colorbar": {
             "outlinewidth": 0,
             "ticks": ""
            },
            "colorscale": [
             [
              0,
              "#0d0887"
             ],
             [
              0.1111111111111111,
              "#46039f"
             ],
             [
              0.2222222222222222,
              "#7201a8"
             ],
             [
              0.3333333333333333,
              "#9c179e"
             ],
             [
              0.4444444444444444,
              "#bd3786"
             ],
             [
              0.5555555555555556,
              "#d8576b"
             ],
             [
              0.6666666666666666,
              "#ed7953"
             ],
             [
              0.7777777777777778,
              "#fb9f3a"
             ],
             [
              0.8888888888888888,
              "#fdca26"
             ],
             [
              1,
              "#f0f921"
             ]
            ],
            "type": "histogram2dcontour"
           }
          ],
          "mesh3d": [
           {
            "colorbar": {
             "outlinewidth": 0,
             "ticks": ""
            },
            "type": "mesh3d"
           }
          ],
          "parcoords": [
           {
            "line": {
             "colorbar": {
              "outlinewidth": 0,
              "ticks": ""
             }
            },
            "type": "parcoords"
           }
          ],
          "pie": [
           {
            "automargin": true,
            "type": "pie"
           }
          ],
          "scatter": [
           {
            "fillpattern": {
             "fillmode": "overlay",
             "size": 10,
             "solidity": 0.2
            },
            "type": "scatter"
           }
          ],
          "scatter3d": [
           {
            "line": {
             "colorbar": {
              "outlinewidth": 0,
              "ticks": ""
             }
            },
            "marker": {
             "colorbar": {
              "outlinewidth": 0,
              "ticks": ""
             }
            },
            "type": "scatter3d"
           }
          ],
          "scattercarpet": [
           {
            "marker": {
             "colorbar": {
              "outlinewidth": 0,
              "ticks": ""
             }
            },
            "type": "scattercarpet"
           }
          ],
          "scattergeo": [
           {
            "marker": {
             "colorbar": {
              "outlinewidth": 0,
              "ticks": ""
             }
            },
            "type": "scattergeo"
           }
          ],
          "scattergl": [
           {
            "marker": {
             "colorbar": {
              "outlinewidth": 0,
              "ticks": ""
             }
            },
            "type": "scattergl"
           }
          ],
          "scattermap": [
           {
            "marker": {
             "colorbar": {
              "outlinewidth": 0,
              "ticks": ""
             }
            },
            "type": "scattermap"
           }
          ],
          "scattermapbox": [
           {
            "marker": {
             "colorbar": {
              "outlinewidth": 0,
              "ticks": ""
             }
            },
            "type": "scattermapbox"
           }
          ],
          "scatterpolar": [
           {
            "marker": {
             "colorbar": {
              "outlinewidth": 0,
              "ticks": ""
             }
            },
            "type": "scatterpolar"
           }
          ],
          "scatterpolargl": [
           {
            "marker": {
             "colorbar": {
              "outlinewidth": 0,
              "ticks": ""
             }
            },
            "type": "scatterpolargl"
           }
          ],
          "scatterternary": [
           {
            "marker": {
             "colorbar": {
              "outlinewidth": 0,
              "ticks": ""
             }
            },
            "type": "scatterternary"
           }
          ],
          "surface": [
           {
            "colorbar": {
             "outlinewidth": 0,
             "ticks": ""
            },
            "colorscale": [
             [
              0,
              "#0d0887"
             ],
             [
              0.1111111111111111,
              "#46039f"
             ],
             [
              0.2222222222222222,
              "#7201a8"
             ],
             [
              0.3333333333333333,
              "#9c179e"
             ],
             [
              0.4444444444444444,
              "#bd3786"
             ],
             [
              0.5555555555555556,
              "#d8576b"
             ],
             [
              0.6666666666666666,
              "#ed7953"
             ],
             [
              0.7777777777777778,
              "#fb9f3a"
             ],
             [
              0.8888888888888888,
              "#fdca26"
             ],
             [
              1,
              "#f0f921"
             ]
            ],
            "type": "surface"
           }
          ],
          "table": [
           {
            "cells": {
             "fill": {
              "color": "#EBF0F8"
             },
             "line": {
              "color": "white"
             }
            },
            "header": {
             "fill": {
              "color": "#C8D4E3"
             },
             "line": {
              "color": "white"
             }
            },
            "type": "table"
           }
          ]
         },
         "layout": {
          "annotationdefaults": {
           "arrowcolor": "#2a3f5f",
           "arrowhead": 0,
           "arrowwidth": 1
          },
          "autotypenumbers": "strict",
          "coloraxis": {
           "colorbar": {
            "outlinewidth": 0,
            "ticks": ""
           }
          },
          "colorscale": {
           "diverging": [
            [
             0,
             "#8e0152"
            ],
            [
             0.1,
             "#c51b7d"
            ],
            [
             0.2,
             "#de77ae"
            ],
            [
             0.3,
             "#f1b6da"
            ],
            [
             0.4,
             "#fde0ef"
            ],
            [
             0.5,
             "#f7f7f7"
            ],
            [
             0.6,
             "#e6f5d0"
            ],
            [
             0.7,
             "#b8e186"
            ],
            [
             0.8,
             "#7fbc41"
            ],
            [
             0.9,
             "#4d9221"
            ],
            [
             1,
             "#276419"
            ]
           ],
           "sequential": [
            [
             0,
             "#0d0887"
            ],
            [
             0.1111111111111111,
             "#46039f"
            ],
            [
             0.2222222222222222,
             "#7201a8"
            ],
            [
             0.3333333333333333,
             "#9c179e"
            ],
            [
             0.4444444444444444,
             "#bd3786"
            ],
            [
             0.5555555555555556,
             "#d8576b"
            ],
            [
             0.6666666666666666,
             "#ed7953"
            ],
            [
             0.7777777777777778,
             "#fb9f3a"
            ],
            [
             0.8888888888888888,
             "#fdca26"
            ],
            [
             1,
             "#f0f921"
            ]
           ],
           "sequentialminus": [
            [
             0,
             "#0d0887"
            ],
            [
             0.1111111111111111,
             "#46039f"
            ],
            [
             0.2222222222222222,
             "#7201a8"
            ],
            [
             0.3333333333333333,
             "#9c179e"
            ],
            [
             0.4444444444444444,
             "#bd3786"
            ],
            [
             0.5555555555555556,
             "#d8576b"
            ],
            [
             0.6666666666666666,
             "#ed7953"
            ],
            [
             0.7777777777777778,
             "#fb9f3a"
            ],
            [
             0.8888888888888888,
             "#fdca26"
            ],
            [
             1,
             "#f0f921"
            ]
           ]
          },
          "colorway": [
           "#636efa",
           "#EF553B",
           "#00cc96",
           "#ab63fa",
           "#FFA15A",
           "#19d3f3",
           "#FF6692",
           "#B6E880",
           "#FF97FF",
           "#FECB52"
          ],
          "font": {
           "color": "#2a3f5f"
          },
          "geo": {
           "bgcolor": "white",
           "lakecolor": "white",
           "landcolor": "#E5ECF6",
           "showlakes": true,
           "showland": true,
           "subunitcolor": "white"
          },
          "hoverlabel": {
           "align": "left"
          },
          "hovermode": "closest",
          "mapbox": {
           "style": "light"
          },
          "paper_bgcolor": "white",
          "plot_bgcolor": "#E5ECF6",
          "polar": {
           "angularaxis": {
            "gridcolor": "white",
            "linecolor": "white",
            "ticks": ""
           },
           "bgcolor": "#E5ECF6",
           "radialaxis": {
            "gridcolor": "white",
            "linecolor": "white",
            "ticks": ""
           }
          },
          "scene": {
           "xaxis": {
            "backgroundcolor": "#E5ECF6",
            "gridcolor": "white",
            "gridwidth": 2,
            "linecolor": "white",
            "showbackground": true,
            "ticks": "",
            "zerolinecolor": "white"
           },
           "yaxis": {
            "backgroundcolor": "#E5ECF6",
            "gridcolor": "white",
            "gridwidth": 2,
            "linecolor": "white",
            "showbackground": true,
            "ticks": "",
            "zerolinecolor": "white"
           },
           "zaxis": {
            "backgroundcolor": "#E5ECF6",
            "gridcolor": "white",
            "gridwidth": 2,
            "linecolor": "white",
            "showbackground": true,
            "ticks": "",
            "zerolinecolor": "white"
           }
          },
          "shapedefaults": {
           "line": {
            "color": "#2a3f5f"
           }
          },
          "ternary": {
           "aaxis": {
            "gridcolor": "white",
            "linecolor": "white",
            "ticks": ""
           },
           "baxis": {
            "gridcolor": "white",
            "linecolor": "white",
            "ticks": ""
           },
           "bgcolor": "#E5ECF6",
           "caxis": {
            "gridcolor": "white",
            "linecolor": "white",
            "ticks": ""
           }
          },
          "title": {
           "x": 0.05
          },
          "xaxis": {
           "automargin": true,
           "gridcolor": "white",
           "linecolor": "white",
           "ticks": "",
           "title": {
            "standoff": 15
           },
           "zerolinecolor": "white",
           "zerolinewidth": 2
          },
          "yaxis": {
           "automargin": true,
           "gridcolor": "white",
           "linecolor": "white",
           "ticks": "",
           "title": {
            "standoff": 15
           },
           "zerolinecolor": "white",
           "zerolinewidth": 2
          }
         }
        },
        "title": {
         "text": "Feature Importance"
        },
        "xaxis": {
         "anchor": "y",
         "domain": [
          0,
          1
         ],
         "title": {
          "text": "Importance"
         }
        },
        "yaxis": {
         "anchor": "x",
         "domain": [
          0,
          1
         ],
         "title": {
          "text": "Feature"
         }
        }
       }
      }
     },
     "metadata": {},
     "output_type": "display_data"
    }
   ],
   "source": [
    "# Feature importance (if the model is XGBoost or LightGBM)\n",
    "if hasattr(best_model, 'feature_importances_'):\n",
    "    feature_importances = best_model.feature_importances_\n",
    "    feature_names = df.drop(columns=['TotalRenewableEnergy', 'Country', 'PredictedTotalRenewableEnergy']).columns\n",
    "    \n",
    "    importance_df = pd.DataFrame({\n",
    "        'Feature': feature_names,\n",
    "        'Importance': feature_importances\n",
    "    }).sort_values(by='Importance', ascending=False)\n",
    "    \n",
    "    fig = px.bar(importance_df, x='Importance', y='Feature', \n",
    "                 title='Feature Importance',\n",
    "                 labels={'Importance': 'Importance', 'Feature': 'Feature'})\n",
    "    fig.show()"
   ]
  },
  {
   "cell_type": "code",
   "execution_count": null,
   "metadata": {},
   "outputs": [],
   "source": []
  }
 ],
 "metadata": {
  "kernelspec": {
   "display_name": "ai",
   "language": "python",
   "name": "python3"
  },
  "language_info": {
   "codemirror_mode": {
    "name": "ipython",
    "version": 3
   },
   "file_extension": ".py",
   "mimetype": "text/x-python",
   "name": "python",
   "nbconvert_exporter": "python",
   "pygments_lexer": "ipython3",
   "version": "3.10.16"
  }
 },
 "nbformat": 4,
 "nbformat_minor": 2
}
